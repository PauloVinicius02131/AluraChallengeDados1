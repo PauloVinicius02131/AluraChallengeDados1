{
 "cells": [
  {
   "cell_type": "code",
   "execution_count": 1,
   "metadata": {},
   "outputs": [],
   "source": [
    "import pandas as pd\n",
    "import matplotlib.pyplot as plt\n",
    "import matplotlib.backends.backend_pdf\n",
    "import seaborn as sns\n",
    "import sqlalchemy as sql\n",
    "import seaborn as sns\n",
    "\n",
    "from sqlalchemy import create_engine\n",
    "\n",
    "from sklearn.metrics import accuracy_score\n",
    "from sklearn.metrics import confusion_matrix, ConfusionMatrixDisplay\n",
    "from sklearn.metrics import classification_report\n",
    "from sklearn.metrics import roc_curve, roc_auc_score\n",
    "from sklearn.linear_model import LogisticRegression\n",
    "from sklearn.model_selection import train_test_split\n",
    "\n",
    "pd.set_option('display.float_format', lambda x: '%.3f' % x)"
   ]
  },
  {
   "cell_type": "code",
   "execution_count": 2,
   "metadata": {},
   "outputs": [],
   "source": [
    "string_connection = 'mysql+mysqlconnector://{user}:{password}@{server}/{database}'.format(\n",
    "                    user='root',\n",
    "                    password='125478',\n",
    "                    server='127.0.0.1',\n",
    "                    database='analise_risco')\n",
    "\n",
    "cnx = sql.create_engine(string_connection)\n"
   ]
  },
  {
   "cell_type": "code",
   "execution_count": 3,
   "metadata": {},
   "outputs": [
    {
     "name": "stdout",
     "output_type": "stream",
     "text": [
      "<class 'pandas.core.frame.DataFrame'>\n",
      "RangeIndex: 34485 entries, 0 to 34484\n",
      "Data columns (total 13 columns):\n",
      " #   Column                 Non-Null Count  Dtype  \n",
      "---  ------                 --------------  -----  \n",
      " 0   pessoa_id              34485 non-null  object \n",
      " 1   pessoa_idade           34165 non-null  float64\n",
      " 2   salario_ano            34150 non-null  float64\n",
      " 3   propriedade_sit        34485 non-null  object \n",
      " 4   ano_trabalhado         33231 non-null  float64\n",
      " 5   motivo_emprestimo      34485 non-null  object \n",
      " 6   pontuacao_emprestimos  34485 non-null  object \n",
      " 7   vl_total               34154 non-null  float64\n",
      " 8   tx_juros               30859 non-null  float64\n",
      " 9   inadimplencia          34142 non-null  float64\n",
      " 10  tx_renda_divida        34170 non-null  float64\n",
      " 11  hst_inadimplencia      34119 non-null  float64\n",
      " 12  hst_primeiro_credito   34485 non-null  int64  \n",
      "dtypes: float64(8), int64(1), object(4)\n",
      "memory usage: 3.4+ MB\n"
     ]
    }
   ],
   "source": [
    "dados = pd.read_sql('select * from analise_risco.dados_modelo_ml', cnx)\n",
    "             \n",
    "dados.info()"
   ]
  },
  {
   "cell_type": "code",
   "execution_count": 4,
   "metadata": {},
   "outputs": [],
   "source": [
    "#Variaveis Categóricas depara\n",
    "\n",
    "# sklearn.preprocessing.OneHotEncoder \n",
    "\n",
    "# propriedade_sit,\n",
    "# motivo_emprestimo,\n",
    "# pontuacao_emprestimos,\n",
    "\n",
    "\n",
    "# dados[\"propriedade_sit\"].unique()\n",
    "\n",
    "A = {\n",
    "    \"Hipotecada\":1,\n",
    "    \"Própria\":2,\n",
    "    \"Alugada\":3,\n",
    "    \"Outros\":4,\n",
    "    \"-\":0,\n",
    "}\n",
    "\n",
    "dados[\"propriedade_sit\"] = dados[\"propriedade_sit\"].map(A)\n",
    "\n",
    "dados[\"motivo_emprestimo\"].unique()\n",
    "\n",
    "B = {'Pagamento de débitos': 1,\n",
    "     'Pessoal': 2,\n",
    "     'Educativo': 3,\n",
    "     'Médico': 4,\n",
    "     'Empreendimento': 5,\n",
    "     'Melhora do lar': 6,\n",
    "     '-': 0\n",
    "     }\n",
    "\n",
    "dados[\"motivo_emprestimo\"] = dados[\"motivo_emprestimo\"].map(B)\n",
    "\n",
    "dados[\"pontuacao_emprestimos\"].unique()\n",
    "\n",
    "C = {'D': 4,\n",
    "     'B': 2,\n",
    "     'A': 1,\n",
    "     'C': 3,\n",
    "     'E': 5,\n",
    "     'F': 6,\n",
    "     '': 0,\n",
    "     'G': 7}\n",
    "\n",
    "dados[\"pontuacao_emprestimos\"] = dados[\"pontuacao_emprestimos\"].map(C)\n"
   ]
  },
  {
   "cell_type": "code",
   "execution_count": 5,
   "metadata": {},
   "outputs": [
    {
     "data": {
      "text/html": [
       "<div>\n",
       "<style scoped>\n",
       "    .dataframe tbody tr th:only-of-type {\n",
       "        vertical-align: middle;\n",
       "    }\n",
       "\n",
       "    .dataframe tbody tr th {\n",
       "        vertical-align: top;\n",
       "    }\n",
       "\n",
       "    .dataframe thead th {\n",
       "        text-align: right;\n",
       "    }\n",
       "</style>\n",
       "<table border=\"1\" class=\"dataframe\">\n",
       "  <thead>\n",
       "    <tr style=\"text-align: right;\">\n",
       "      <th></th>\n",
       "      <th>pessoa_idade</th>\n",
       "      <th>salario_ano</th>\n",
       "      <th>ano_trabalhado</th>\n",
       "      <th>vl_total</th>\n",
       "      <th>tx_juros</th>\n",
       "      <th>tx_renda_divida</th>\n",
       "      <th>hst_primeiro_credito</th>\n",
       "    </tr>\n",
       "  </thead>\n",
       "  <tbody>\n",
       "    <tr>\n",
       "      <th>count</th>\n",
       "      <td>34165.000</td>\n",
       "      <td>34150.000</td>\n",
       "      <td>33231.000</td>\n",
       "      <td>34154.000</td>\n",
       "      <td>30859.000</td>\n",
       "      <td>34170.000</td>\n",
       "      <td>34485.000</td>\n",
       "    </tr>\n",
       "    <tr>\n",
       "      <th>mean</th>\n",
       "      <td>27.731</td>\n",
       "      <td>66023.181</td>\n",
       "      <td>4.788</td>\n",
       "      <td>9590.560</td>\n",
       "      <td>11.013</td>\n",
       "      <td>0.170</td>\n",
       "      <td>5.809</td>\n",
       "    </tr>\n",
       "    <tr>\n",
       "      <th>std</th>\n",
       "      <td>6.346</td>\n",
       "      <td>61411.274</td>\n",
       "      <td>4.138</td>\n",
       "      <td>6321.217</td>\n",
       "      <td>3.240</td>\n",
       "      <td>0.107</td>\n",
       "      <td>4.064</td>\n",
       "    </tr>\n",
       "    <tr>\n",
       "      <th>min</th>\n",
       "      <td>20.000</td>\n",
       "      <td>4000.000</td>\n",
       "      <td>0.000</td>\n",
       "      <td>500.000</td>\n",
       "      <td>5.420</td>\n",
       "      <td>0.000</td>\n",
       "      <td>2.000</td>\n",
       "    </tr>\n",
       "    <tr>\n",
       "      <th>25%</th>\n",
       "      <td>23.000</td>\n",
       "      <td>38496.000</td>\n",
       "      <td>2.000</td>\n",
       "      <td>5000.000</td>\n",
       "      <td>7.900</td>\n",
       "      <td>0.090</td>\n",
       "      <td>3.000</td>\n",
       "    </tr>\n",
       "    <tr>\n",
       "      <th>50%</th>\n",
       "      <td>26.000</td>\n",
       "      <td>55000.000</td>\n",
       "      <td>4.000</td>\n",
       "      <td>8000.000</td>\n",
       "      <td>10.990</td>\n",
       "      <td>0.150</td>\n",
       "      <td>4.000</td>\n",
       "    </tr>\n",
       "    <tr>\n",
       "      <th>75%</th>\n",
       "      <td>30.000</td>\n",
       "      <td>79100.000</td>\n",
       "      <td>7.000</td>\n",
       "      <td>12200.000</td>\n",
       "      <td>13.470</td>\n",
       "      <td>0.230</td>\n",
       "      <td>8.000</td>\n",
       "    </tr>\n",
       "    <tr>\n",
       "      <th>max</th>\n",
       "      <td>144.000</td>\n",
       "      <td>6000000.000</td>\n",
       "      <td>123.000</td>\n",
       "      <td>35000.000</td>\n",
       "      <td>23.220</td>\n",
       "      <td>0.830</td>\n",
       "      <td>30.000</td>\n",
       "    </tr>\n",
       "  </tbody>\n",
       "</table>\n",
       "</div>"
      ],
      "text/plain": [
       "       pessoa_idade  salario_ano  ano_trabalhado  vl_total  tx_juros  \\\n",
       "count     34165.000    34150.000       33231.000 34154.000 30859.000   \n",
       "mean         27.731    66023.181           4.788  9590.560    11.013   \n",
       "std           6.346    61411.274           4.138  6321.217     3.240   \n",
       "min          20.000     4000.000           0.000   500.000     5.420   \n",
       "25%          23.000    38496.000           2.000  5000.000     7.900   \n",
       "50%          26.000    55000.000           4.000  8000.000    10.990   \n",
       "75%          30.000    79100.000           7.000 12200.000    13.470   \n",
       "max         144.000  6000000.000         123.000 35000.000    23.220   \n",
       "\n",
       "       tx_renda_divida  hst_primeiro_credito  \n",
       "count        34170.000             34485.000  \n",
       "mean             0.170                 5.809  \n",
       "std              0.107                 4.064  \n",
       "min              0.000                 2.000  \n",
       "25%              0.090                 3.000  \n",
       "50%              0.150                 4.000  \n",
       "75%              0.230                 8.000  \n",
       "max              0.830                30.000  "
      ]
     },
     "execution_count": 5,
     "metadata": {},
     "output_type": "execute_result"
    }
   ],
   "source": [
    "# Analise das Variaveis Numéricas\n",
    "\n",
    "# pessoa_idade\n",
    "# salario_ano\n",
    "# ano_trabalhado\n",
    "# vl_total\n",
    "# tx_juros\n",
    "# tx_renda_divida\n",
    "# hst_primeiro_credito\n",
    "\n",
    "colunas_numericas = [\"pessoa_idade\",\n",
    "\"salario_ano\",\n",
    "\"ano_trabalhado\",\n",
    "\"vl_total\",\n",
    "\"tx_juros\",\n",
    "\"tx_renda_divida\",\n",
    "\"hst_primeiro_credito\"]\n",
    "\n",
    "dados[colunas_numericas].describe()\n"
   ]
  },
  {
   "cell_type": "code",
   "execution_count": 178,
   "metadata": {},
   "outputs": [],
   "source": [
    "# histogramas = ['pessoa_idade', 'salario_ano',\n",
    "#                'ano_trabalhado', 'hst_inadimplencia']\n",
    "# histogramas = list(enumerate(histogramas))\n",
    "\n",
    "# plt.figure(figsize=(30, 20))\n",
    "\n",
    "# for i in histogramas:\n",
    "#     plt.subplot(2, 2, i[0]+1)\n",
    "#     sns.countplot(i[1], data=dados)\n",
    "#     plt.title(i[1])\n",
    "#     plt.xticks(rotation=45)\n"
   ]
  },
  {
   "cell_type": "markdown",
   "metadata": {},
   "source": [
    "# Trabalhando com os Nulos.\n",
    "\n",
    "  - Criar um Dataset sem nulos.\n",
    "  - Criar um Dataset com os nulos tratados.\n"
   ]
  },
  {
   "cell_type": "markdown",
   "metadata": {},
   "source": [
    "Dataset sem nulos:"
   ]
  },
  {
   "cell_type": "code",
   "execution_count": 6,
   "metadata": {},
   "outputs": [
    {
     "name": "stdout",
     "output_type": "stream",
     "text": [
      "<class 'pandas.core.frame.DataFrame'>\n",
      "Int64Index: 28769 entries, 1 to 34484\n",
      "Data columns (total 13 columns):\n",
      " #   Column                 Non-Null Count  Dtype  \n",
      "---  ------                 --------------  -----  \n",
      " 0   pessoa_id              28769 non-null  object \n",
      " 1   pessoa_idade           28769 non-null  float64\n",
      " 2   salario_ano            28769 non-null  float64\n",
      " 3   propriedade_sit        28769 non-null  int64  \n",
      " 4   ano_trabalhado         28769 non-null  float64\n",
      " 5   motivo_emprestimo      28769 non-null  int64  \n",
      " 6   pontuacao_emprestimos  28769 non-null  int64  \n",
      " 7   vl_total               28769 non-null  float64\n",
      " 8   tx_juros               28769 non-null  float64\n",
      " 9   inadimplencia          28769 non-null  float64\n",
      " 10  tx_renda_divida        28769 non-null  float64\n",
      " 11  hst_inadimplencia      28769 non-null  float64\n",
      " 12  hst_primeiro_credito   28769 non-null  int64  \n",
      "dtypes: float64(8), int64(4), object(1)\n",
      "memory usage: 3.1+ MB\n"
     ]
    }
   ],
   "source": [
    "df_dados_semnulos = dados.dropna()\n",
    "\n",
    "df_dados_semnulos.info()"
   ]
  },
  {
   "cell_type": "markdown",
   "metadata": {},
   "source": [
    "Nulos Tratados"
   ]
  },
  {
   "cell_type": "markdown",
   "metadata": {},
   "source": [
    "A idea é obter a mediana da variavel alvo atraves de agrupamento de outras variveis a qual não se possui valores nulos nas colunas."
   ]
  },
  {
   "cell_type": "code",
   "execution_count": 180,
   "metadata": {},
   "outputs": [],
   "source": [
    "# Para o segundo Dataset precisamos tratar estas colunas.\n",
    "# pessoa_idade              320 Lista_GroupBY\n",
    "# salario_ano               335 Lista_GroupBY\n",
    "# ano_trabalhado           1254 Lista_GroupBY\n",
    "# vl_total                  331 Exclusão\n",
    "# tx_juros                 3626 Calcular\n",
    "# inadimplencia             343 Separar \n",
    "\n",
    "# hst_inadimplencia         366 "
   ]
  },
  {
   "cell_type": "code",
   "execution_count": 7,
   "metadata": {},
   "outputs": [],
   "source": [
    "# teste = dados.copy()\n",
    "\n",
    "#duvida sobre hst_inadimplencia, se a media ou existe uma forma melhor de preencher.\n",
    "\n",
    "# Para melhor desempenho remover mais os dados nulos ( challenge)\n",
    "\n",
    "lista_groupby = ['pessoa_idade', 'salario_ano',\n",
    "                 'ano_trabalhado', 'tx_juros', 'hst_inadimplencia']\n",
    "\n",
    "for i in lista_groupby:\n",
    "    dados[i].fillna(dados.groupby(['propriedade_sit', 'motivo_emprestimo'])[i].transform('mean'), inplace=True)\n",
    "\n",
    "\n",
    "# vl_total 331 nulos apenas, então irei excluir os registros\n",
    "dados.dropna(axis=0,subset=['vl_total'], inplace=True)\n",
    "\n",
    "# tx_renda_divida 315 por mais que seja pequeno o numero de nulos, é possível calcular.\n",
    "dados.tx_renda_divida.fillna(dados.vl_total/dados.salario_ano, inplace=True)\n",
    "\n",
    "# inadimplência             343\n",
    "# Vou separar os dados nulos desta coluna para um dataset de predição, ja que no dicionario de dados consta como:\n",
    "#possibilidade de inadimplência.\n",
    "\n",
    "predicao = dados.copy(deep=True)\n",
    "mask = pd.isnull(dados['inadimplencia'])\n",
    "predicao = predicao[mask]\n",
    "\n",
    "dados.dropna(axis=0,subset=['inadimplencia'], inplace=True)\n",
    "\n"
   ]
  },
  {
   "cell_type": "code",
   "execution_count": 8,
   "metadata": {},
   "outputs": [
    {
     "name": "stdout",
     "output_type": "stream",
     "text": [
      "<class 'pandas.core.frame.DataFrame'>\n",
      "RangeIndex: 307 entries, 0 to 306\n",
      "Data columns (total 13 columns):\n",
      " #   Column                 Non-Null Count  Dtype  \n",
      "---  ------                 --------------  -----  \n",
      " 0   pessoa_id              307 non-null    object \n",
      " 1   pessoa_idade           307 non-null    float64\n",
      " 2   salario_ano            307 non-null    float64\n",
      " 3   propriedade_sit        307 non-null    int64  \n",
      " 4   ano_trabalhado         307 non-null    float64\n",
      " 5   motivo_emprestimo      307 non-null    int64  \n",
      " 6   pontuacao_emprestimos  307 non-null    int64  \n",
      " 7   vl_total               307 non-null    float64\n",
      " 8   tx_juros               307 non-null    float64\n",
      " 9   inadimplencia          0 non-null      float64\n",
      " 10  tx_renda_divida        307 non-null    float64\n",
      " 11  hst_inadimplencia      307 non-null    float64\n",
      " 12  hst_primeiro_credito   307 non-null    int64  \n",
      "dtypes: float64(8), int64(4), object(1)\n",
      "memory usage: 31.3+ KB\n"
     ]
    }
   ],
   "source": [
    "predicao.reset_index(drop=True, inplace=True)\n",
    "predicao.info()"
   ]
  },
  {
   "cell_type": "markdown",
   "metadata": {},
   "source": [
    "# Tratamento de Variaveis Numericas"
   ]
  },
  {
   "cell_type": "markdown",
   "metadata": {},
   "source": [
    "# Variaveis Numéricas\n"
   ]
  },
  {
   "cell_type": "code",
   "execution_count": 9,
   "metadata": {},
   "outputs": [
    {
     "data": {
      "text/html": [
       "<div>\n",
       "<style scoped>\n",
       "    .dataframe tbody tr th:only-of-type {\n",
       "        vertical-align: middle;\n",
       "    }\n",
       "\n",
       "    .dataframe tbody tr th {\n",
       "        vertical-align: top;\n",
       "    }\n",
       "\n",
       "    .dataframe thead th {\n",
       "        text-align: right;\n",
       "    }\n",
       "</style>\n",
       "<table border=\"1\" class=\"dataframe\">\n",
       "  <thead>\n",
       "    <tr style=\"text-align: right;\">\n",
       "      <th></th>\n",
       "      <th>pessoa_idade</th>\n",
       "      <th>salario_ano</th>\n",
       "      <th>ano_trabalhado</th>\n",
       "      <th>vl_total</th>\n",
       "      <th>tx_juros</th>\n",
       "      <th>tx_renda_divida</th>\n",
       "      <th>hst_primeiro_credito</th>\n",
       "    </tr>\n",
       "  </thead>\n",
       "  <tbody>\n",
       "    <tr>\n",
       "      <th>count</th>\n",
       "      <td>33847.000</td>\n",
       "      <td>33847.000</td>\n",
       "      <td>33847.000</td>\n",
       "      <td>33847.000</td>\n",
       "      <td>33847.000</td>\n",
       "      <td>33847.000</td>\n",
       "      <td>33847.000</td>\n",
       "    </tr>\n",
       "    <tr>\n",
       "      <th>mean</th>\n",
       "      <td>27.732</td>\n",
       "      <td>66072.684</td>\n",
       "      <td>4.793</td>\n",
       "      <td>9596.373</td>\n",
       "      <td>11.013</td>\n",
       "      <td>0.171</td>\n",
       "      <td>5.805</td>\n",
       "    </tr>\n",
       "    <tr>\n",
       "      <th>std</th>\n",
       "      <td>6.319</td>\n",
       "      <td>61323.660</td>\n",
       "      <td>4.073</td>\n",
       "      <td>6320.397</td>\n",
       "      <td>3.072</td>\n",
       "      <td>0.108</td>\n",
       "      <td>4.059</td>\n",
       "    </tr>\n",
       "    <tr>\n",
       "      <th>min</th>\n",
       "      <td>20.000</td>\n",
       "      <td>4000.000</td>\n",
       "      <td>0.000</td>\n",
       "      <td>500.000</td>\n",
       "      <td>5.420</td>\n",
       "      <td>0.000</td>\n",
       "      <td>2.000</td>\n",
       "    </tr>\n",
       "    <tr>\n",
       "      <th>25%</th>\n",
       "      <td>23.000</td>\n",
       "      <td>39000.000</td>\n",
       "      <td>2.000</td>\n",
       "      <td>5000.000</td>\n",
       "      <td>8.490</td>\n",
       "      <td>0.090</td>\n",
       "      <td>3.000</td>\n",
       "    </tr>\n",
       "    <tr>\n",
       "      <th>50%</th>\n",
       "      <td>26.000</td>\n",
       "      <td>55000.000</td>\n",
       "      <td>4.000</td>\n",
       "      <td>8000.000</td>\n",
       "      <td>10.990</td>\n",
       "      <td>0.150</td>\n",
       "      <td>4.000</td>\n",
       "    </tr>\n",
       "    <tr>\n",
       "      <th>75%</th>\n",
       "      <td>30.000</td>\n",
       "      <td>79200.000</td>\n",
       "      <td>7.000</td>\n",
       "      <td>12250.000</td>\n",
       "      <td>13.110</td>\n",
       "      <td>0.230</td>\n",
       "      <td>8.000</td>\n",
       "    </tr>\n",
       "    <tr>\n",
       "      <th>max</th>\n",
       "      <td>144.000</td>\n",
       "      <td>6000000.000</td>\n",
       "      <td>123.000</td>\n",
       "      <td>35000.000</td>\n",
       "      <td>23.220</td>\n",
       "      <td>1.419</td>\n",
       "      <td>30.000</td>\n",
       "    </tr>\n",
       "  </tbody>\n",
       "</table>\n",
       "</div>"
      ],
      "text/plain": [
       "       pessoa_idade  salario_ano  ano_trabalhado  vl_total  tx_juros  \\\n",
       "count     33847.000    33847.000       33847.000 33847.000 33847.000   \n",
       "mean         27.732    66072.684           4.793  9596.373    11.013   \n",
       "std           6.319    61323.660           4.073  6320.397     3.072   \n",
       "min          20.000     4000.000           0.000   500.000     5.420   \n",
       "25%          23.000    39000.000           2.000  5000.000     8.490   \n",
       "50%          26.000    55000.000           4.000  8000.000    10.990   \n",
       "75%          30.000    79200.000           7.000 12250.000    13.110   \n",
       "max         144.000  6000000.000         123.000 35000.000    23.220   \n",
       "\n",
       "       tx_renda_divida  hst_primeiro_credito  \n",
       "count        33847.000             33847.000  \n",
       "mean             0.171                 5.805  \n",
       "std              0.108                 4.059  \n",
       "min              0.000                 2.000  \n",
       "25%              0.090                 3.000  \n",
       "50%              0.150                 4.000  \n",
       "75%              0.230                 8.000  \n",
       "max              1.419                30.000  "
      ]
     },
     "execution_count": 9,
     "metadata": {},
     "output_type": "execute_result"
    }
   ],
   "source": [
    "df_numericos = dados[colunas_numericas].copy()\n",
    "\n",
    "df_numericos.describe()"
   ]
  },
  {
   "cell_type": "code",
   "execution_count": 10,
   "metadata": {},
   "outputs": [
    {
     "data": {
      "text/plain": [
       "<AxesSubplot:xlabel='hst_primeiro_credito'>"
      ]
     },
     "execution_count": 10,
     "metadata": {},
     "output_type": "execute_result"
    },
    {
     "data": {
      "image/png": "[encoded data removed]",
      "text/plain": [
       "<Figure size 640x480 with 1 Axes>"
      ]
     },
     "metadata": {},
     "output_type": "display_data"
    }
   ],
   "source": [
    "# for i in colunas_numericas:\n",
    "#     plt.figure()\n",
    "#     sns.boxplot(x=df_numericos[i])\n",
    "    \n",
    "sns.boxplot(x=df_numericos['hst_primeiro_credito'])\n"
   ]
  },
  {
   "cell_type": "markdown",
   "metadata": {},
   "source": [
    "# Idade\n",
    " -pessoa_idade"
   ]
  },
  {
   "cell_type": "code",
   "execution_count": 11,
   "metadata": {},
   "outputs": [
    {
     "data": {
      "text/plain": [
       "<AxesSubplot:xlabel='pessoa_idade', ylabel='count'>"
      ]
     },
     "execution_count": 11,
     "metadata": {},
     "output_type": "execute_result"
    },
    {
     "data": {
      "image/png": "[encoded data removed]",
      "text/plain": [
       "<Figure size 640x480 with 1 Axes>"
      ]
     },
     "metadata": {},
     "output_type": "display_data"
    }
   ],
   "source": [
    "out = dados['pessoa_idade'].where(dados['pessoa_idade'] > 60)\n",
    "sns.countplot(x=out)"
   ]
  },
  {
   "cell_type": "code",
   "execution_count": 12,
   "metadata": {},
   "outputs": [],
   "source": [
    "#Apagar 2 pessoas acima de 100 anos\n",
    "dados.drop(dados[dados[\"pessoa_idade\"] > 86].index, inplace=True)\n",
    "\n",
    "# Percebe-se que a idade se concentra entre 20 e 40 anos\n",
    "# Teste sobre criar uma coluna de faixas etárias com intervalo de 5 anos.\n",
    "\n",
    "faixa_etaria = [15, 20,25, 30, 35, 40, 45, 50, 55, 60, 65, 70, 75, 80, 85]\n",
    "faixa_etaria_labels = [1,2,3,4,5,6,7,8,9,10,11,12,13,14]\n",
    "\n",
    "dados['faixa_idade'] = pd.cut(\n",
    "    x=dados['pessoa_idade'], bins=faixa_etaria, labels=faixa_etaria_labels)\n",
    "\n",
    "predicao['faixa_idade'] = pd.cut(\n",
    "    x=predicao['pessoa_idade'], bins=faixa_etaria, labels=faixa_etaria_labels)\n",
    "\n"
   ]
  },
  {
   "cell_type": "markdown",
   "metadata": {},
   "source": [
    "# Salario Ano"
   ]
  },
  {
   "cell_type": "code",
   "execution_count": 13,
   "metadata": {},
   "outputs": [],
   "source": [
    "dados['Faixa_Salarial'] = pd.qcut(dados['salario_ano'],  q=10, labels=False)\n",
    "\n",
    "predicao['Faixa_Salarial'] = pd.qcut(predicao['salario_ano'],  q=10, labels=False)\n"
   ]
  },
  {
   "cell_type": "markdown",
   "metadata": {},
   "source": [
    "# Ano Trabalhado"
   ]
  },
  {
   "cell_type": "code",
   "execution_count": 14,
   "metadata": {},
   "outputs": [
    {
     "data": {
      "text/plain": [
       "<AxesSubplot:xlabel='ano_trabalhado', ylabel='count'>"
      ]
     },
     "execution_count": 14,
     "metadata": {},
     "output_type": "execute_result"
    },
    {
     "data": {
      "image/png": "[encoded data removed]",
      "text/plain": [
       "<Figure size 640x480 with 1 Axes>"
      ]
     },
     "metadata": {},
     "output_type": "display_data"
    }
   ],
   "source": [
    "out = dados['ano_trabalhado'].where(dados['ano_trabalhado'] > 20)\n",
    "sns.countplot(x=out)\n"
   ]
  },
  {
   "cell_type": "code",
   "execution_count": 15,
   "metadata": {},
   "outputs": [],
   "source": [
    "dados.drop(\n",
    "    dados[dados[\"ano_trabalhado\"] > 50].index, inplace=True)\n"
   ]
  },
  {
   "cell_type": "code",
   "execution_count": 16,
   "metadata": {},
   "outputs": [
    {
     "data": {
      "text/plain": [
       "<AxesSubplot:xlabel='ano_trabalhado', ylabel='count'>"
      ]
     },
     "execution_count": 16,
     "metadata": {},
     "output_type": "execute_result"
    },
    {
     "data": {
      "image/png": "[encoded data removed]",
      "text/plain": [
       "<Figure size 640x480 with 1 Axes>"
      ]
     },
     "metadata": {},
     "output_type": "display_data"
    }
   ],
   "source": [
    "out = predicao['ano_trabalhado'].where(predicao['ano_trabalhado'] > 20)\n",
    "sns.countplot(x=out)\n"
   ]
  },
  {
   "cell_type": "markdown",
   "metadata": {},
   "source": [
    "# Valor Total"
   ]
  },
  {
   "cell_type": "code",
   "execution_count": null,
   "metadata": {},
   "outputs": [],
   "source": [
    "out = df_numericos['vl_total'].where(df_numericos['vl_total'] > 20000)\n",
    "sns.countplot(x=out)\n"
   ]
  },
  {
   "cell_type": "code",
   "execution_count": 18,
   "metadata": {},
   "outputs": [],
   "source": [
    "dados['Faixa_Emprestimo'] = pd.cut(x= dados['vl_total'], bins=35, labels=False)\n",
    "\n",
    "predicao['Faixa_Emprestimo'] = pd.cut(x=predicao['vl_total'], bins=35, labels=False)\n"
   ]
  },
  {
   "cell_type": "code",
   "execution_count": 19,
   "metadata": {},
   "outputs": [
    {
     "data": {
      "text/plain": [
       "<AxesSubplot:xlabel='Faixa_Emprestimo', ylabel='count'>"
      ]
     },
     "execution_count": 19,
     "metadata": {},
     "output_type": "execute_result"
    },
    {
     "data": {
      "image/png": "[encoded data removed]",
      "text/plain": [
       "<Figure size 640x480 with 1 Axes>"
      ]
     },
     "metadata": {},
     "output_type": "display_data"
    }
   ],
   "source": [
    "sns.countplot(x=dados['Faixa_Emprestimo'])"
   ]
  },
  {
   "cell_type": "code",
   "execution_count": 20,
   "metadata": {},
   "outputs": [
    {
     "data": {
      "text/plain": [
       "<AxesSubplot:xlabel='Faixa_Emprestimo', ylabel='count'>"
      ]
     },
     "execution_count": 20,
     "metadata": {},
     "output_type": "execute_result"
    },
    {
     "data": {
      "image/png": "[encoded data removed]",
      "text/plain": [
       "<Figure size 640x480 with 1 Axes>"
      ]
     },
     "metadata": {},
     "output_type": "display_data"
    }
   ],
   "source": [
    "sns.countplot(x=predicao['Faixa_Emprestimo'])"
   ]
  },
  {
   "cell_type": "markdown",
   "metadata": {},
   "source": [
    "# Primeiro Credito"
   ]
  },
  {
   "cell_type": "code",
   "execution_count": 21,
   "metadata": {},
   "outputs": [
    {
     "data": {
      "text/plain": [
       "<AxesSubplot:xlabel='faixa_idade', ylabel='hst_primeiro_credito'>"
      ]
     },
     "execution_count": 21,
     "metadata": {},
     "output_type": "execute_result"
    },
    {
     "data": {
      "image/png": "[encoded data removed]",
      "text/plain": [
       "<Figure size 640x480 with 1 Axes>"
      ]
     },
     "metadata": {},
     "output_type": "display_data"
    }
   ],
   "source": [
    "\n",
    "sns.boxplot(x=dados['faixa_idade'],\n",
    "            y=dados['hst_primeiro_credito'])\n",
    "\n",
    "# print(dados['pessoa_idade'].where(dados['faixa_idade'] == 2).unique())\n"
   ]
  },
  {
   "cell_type": "code",
   "execution_count": 22,
   "metadata": {},
   "outputs": [],
   "source": [
    "dados.drop(dados[(dados[\"faixa_idade\"] == 2) &(dados['hst_primeiro_credito'] > 20)].index, inplace=True)"
   ]
  },
  {
   "cell_type": "code",
   "execution_count": 23,
   "metadata": {},
   "outputs": [],
   "source": [
    "dados.drop(dados[(dados[\"faixa_idade\"] == 3) &(dados['hst_primeiro_credito'] > 25)].index, inplace=True)"
   ]
  },
  {
   "cell_type": "code",
   "execution_count": 24,
   "metadata": {},
   "outputs": [
    {
     "data": {
      "text/plain": [
       "<AxesSubplot:xlabel='faixa_idade', ylabel='hst_primeiro_credito'>"
      ]
     },
     "execution_count": 24,
     "metadata": {},
     "output_type": "execute_result"
    },
    {
     "data": {
      "image/png": "[encoded data removed]",
      "text/plain": [
       "<Figure size 640x480 with 1 Axes>"
      ]
     },
     "metadata": {},
     "output_type": "display_data"
    }
   ],
   "source": [
    "sns.boxplot(x=predicao['faixa_idade'],\n",
    "            y=predicao['hst_primeiro_credito'])\n"
   ]
  },
  {
   "cell_type": "code",
   "execution_count": 25,
   "metadata": {},
   "outputs": [],
   "source": [
    "predicao.drop(predicao[(predicao[\"faixa_idade\"] == 2) &(predicao['hst_primeiro_credito'] > 20)].index, inplace=True)"
   ]
  },
  {
   "cell_type": "code",
   "execution_count": 26,
   "metadata": {},
   "outputs": [],
   "source": [
    "predicao.drop(predicao[(predicao[\"faixa_idade\"] == 3) &(predicao['hst_primeiro_credito'] > 25)].index, inplace=True)"
   ]
  },
  {
   "cell_type": "markdown",
   "metadata": {},
   "source": [
    "# Finalizando\n",
    " - Exportando os datasets para a pasta Data, onde será lido pelo programa de treino e predição.\n",
    " "
   ]
  },
  {
   "cell_type": "code",
   "execution_count": 27,
   "metadata": {},
   "outputs": [],
   "source": [
    "dados.describe()\n",
    "\n",
    "dados.to_csv('Data/Dados.csv', index=False)\n",
    "\n",
    "df_dados_semnulos.to_csv('Data/Dados_Sem_Nulos.csv', index=False)\n",
    "\n",
    "# predicao necessita de tratamento das variaveis numericas.\n",
    "predicao.to_csv('Data/Predicao.csv', index=False)"
   ]
  }
 ],
 "metadata": {
  "kernelspec": {
   "display_name": "Python 3.10.6 ('ambienteAluraChallengeDados': venv)",
   "language": "python",
   "name": "python3"
  },
  "language_info": {
   "codemirror_mode": {
    "name": "ipython",
    "version": 3
   },
   "file_extension": ".py",
   "mimetype": "text/x-python",
   "name": "python",
   "nbconvert_exporter": "python",
   "pygments_lexer": "ipython3",
   "version": "3.10.7"
  },
  "orig_nbformat": 4,
  "vscode": {
   "interpreter": {
    "hash": "741ac3bae4910aa6c796e807e646de1eb644790679a71f326a21c533958e2ea7"
   }
  }
 },
 "nbformat": 4,
 "nbformat_minor": 2
}
