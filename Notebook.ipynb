{
 "cells": [
  {
   "cell_type": "code",
   "execution_count": 2,
   "metadata": {},
   "outputs": [],
   "source": [
    "import pandas as pd\n",
    "import sqlalchemy as sql\n",
    "\n",
    "from sqlalchemy import create_engine\n"
   ]
  },
  {
   "cell_type": "code",
   "execution_count": 3,
   "metadata": {},
   "outputs": [],
   "source": [
    "#Conexão com BD\n",
    "DATABASE_URI = 'mysql+mysqlconnector://{user}:{password}@{server}/{database}'.format(\n",
    "    user='root', \n",
    "    password='125478', \n",
    "    server='127.0.0.1', \n",
    "    database='analise_risco')\n",
    "\n",
    "cnx = sql.create_engine(DATABASE_URI)"
   ]
  },
  {
   "cell_type": "code",
   "execution_count": 19,
   "metadata": {},
   "outputs": [
    {
     "data": {
      "text/html": [
       "<div>\n",
       "<style scoped>\n",
       "    .dataframe tbody tr th:only-of-type {\n",
       "        vertical-align: middle;\n",
       "    }\n",
       "\n",
       "    .dataframe tbody tr th {\n",
       "        vertical-align: top;\n",
       "    }\n",
       "\n",
       "    .dataframe thead th {\n",
       "        text-align: right;\n",
       "    }\n",
       "</style>\n",
       "<table border=\"1\" class=\"dataframe\">\n",
       "  <thead>\n",
       "    <tr style=\"text-align: right;\">\n",
       "      <th></th>\n",
       "      <th>pessoa_id</th>\n",
       "    </tr>\n",
       "  </thead>\n",
       "  <tbody>\n",
       "    <tr>\n",
       "      <th>0</th>\n",
       "      <td>tad8vkTn-vp4l</td>\n",
       "    </tr>\n",
       "    <tr>\n",
       "      <th>1</th>\n",
       "      <td>dEILQqp2-lgLx</td>\n",
       "    </tr>\n",
       "    <tr>\n",
       "      <th>2</th>\n",
       "      <td>Az11sWWw-SdFA</td>\n",
       "    </tr>\n",
       "    <tr>\n",
       "      <th>3</th>\n",
       "      <td>YDovEwBH-0eek</td>\n",
       "    </tr>\n",
       "    <tr>\n",
       "      <th>4</th>\n",
       "      <td>lNsbfwlP-gzOE</td>\n",
       "    </tr>\n",
       "  </tbody>\n",
       "</table>\n",
       "</div>"
      ],
      "text/plain": [
       "       pessoa_id\n",
       "0  tad8vkTn-vp4l\n",
       "1  dEILQqp2-lgLx\n",
       "2  Az11sWWw-SdFA\n",
       "3  YDovEwBH-0eek\n",
       "4  lNsbfwlP-gzOE"
      ]
     },
     "execution_count": 19,
     "metadata": {},
     "output_type": "execute_result"
    }
   ],
   "source": [
    "#Infos Relevantes\n",
    "# 14952 clientes que não tiveram registros na tabela id (analise_risco.id {Tabela Fato})\n",
    "#\n",
    "\n",
    "# df = pd.read_sql('select * from analise_risco.dados_mutuarios left join analise_risco.id on(dados_mutuarios.person_id=id.person_id)',\n",
    "#                  cnx)\n",
    "\n",
    "df = pd.read_sql('select pessoa_id from analise_risco.dados_mutuarios',cnx)\n",
    "\n",
    "df.head()"
   ]
  },
  {
   "cell_type": "code",
   "execution_count": 22,
   "metadata": {},
   "outputs": [
    {
     "data": {
      "text/plain": [
       "0        False\n",
       "1        False\n",
       "2        False\n",
       "3        False\n",
       "4        False\n",
       "         ...  \n",
       "34484    False\n",
       "34485    False\n",
       "34486    False\n",
       "34487    False\n",
       "34488    False\n",
       "Length: 34489, dtype: bool"
      ]
     },
     "execution_count": 22,
     "metadata": {},
     "output_type": "execute_result"
    }
   ],
   "source": [
    "duplicadas = df.duplicated()\n",
    "\n",
    "duplicadas"
   ]
  },
  {
   "cell_type": "code",
   "execution_count": null,
   "metadata": {},
   "outputs": [],
   "source": []
  }
 ],
 "metadata": {
  "kernelspec": {
   "display_name": "Python 3.10.6 ('ambienteAluraChallengeDados': venv)",
   "language": "python",
   "name": "python3"
  },
  "language_info": {
   "codemirror_mode": {
    "name": "ipython",
    "version": 3
   },
   "file_extension": ".py",
   "mimetype": "text/x-python",
   "name": "python",
   "nbconvert_exporter": "python",
   "pygments_lexer": "ipython3",
   "version": "3.10.6"
  },
  "orig_nbformat": 4,
  "vscode": {
   "interpreter": {
    "hash": "741ac3bae4910aa6c796e807e646de1eb644790679a71f326a21c533958e2ea7"
   }
  }
 },
 "nbformat": 4,
 "nbformat_minor": 2
}
