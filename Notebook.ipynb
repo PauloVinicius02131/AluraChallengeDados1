{
 "cells": [
  {
   "cell_type": "code",
   "execution_count": 15,
   "metadata": {},
   "outputs": [],
   "source": [
    "import pandas as pd\n",
    "import matplotlib.pyplot as plt\n",
    "import matplotlib.backends.backend_pdf\n",
    "import seaborn as sns\n",
    "import sqlalchemy as sql\n",
    "import seaborn as sns\n",
    "\n",
    "from sqlalchemy import create_engine\n",
    "\n",
    "from sklearn.metrics import roc_auc_score, roc_curve, classification_report, confusion_matrix, accuracy_score, ConfusionMatrixDisplay\n",
    "from sklearn.linear_model import LogisticRegression\n",
    "from sklearn.model_selection import train_test_split\n",
    "from sklearn.compose import make_column_transformer\n",
    "from sklearn.preprocessing import OneHotEncoder\n",
    "\n",
    "pd.set_option('display.float_format', lambda x: '%.3f' % x)"
   ]
  },
  {
   "cell_type": "code",
   "execution_count": 16,
   "metadata": {},
   "outputs": [],
   "source": [
    "string_connection = 'mysql+mysqlconnector://{user}:{password}@{server}/{database}'.format(\n",
    "                    user='root',\n",
    "                    password='125478',\n",
    "                    server='127.0.0.1',\n",
    "                    database='analise_risco')\n",
    "\n",
    "cnx = sql.create_engine(string_connection)\n"
   ]
  },
  {
   "cell_type": "code",
   "execution_count": 17,
   "metadata": {},
   "outputs": [
    {
     "data": {
      "text/html": [
       "<div>\n",
       "<style scoped>\n",
       "    .dataframe tbody tr th:only-of-type {\n",
       "        vertical-align: middle;\n",
       "    }\n",
       "\n",
       "    .dataframe tbody tr th {\n",
       "        vertical-align: top;\n",
       "    }\n",
       "\n",
       "    .dataframe thead th {\n",
       "        text-align: right;\n",
       "    }\n",
       "</style>\n",
       "<table border=\"1\" class=\"dataframe\">\n",
       "  <thead>\n",
       "    <tr style=\"text-align: right;\">\n",
       "      <th></th>\n",
       "      <th>pessoa_id</th>\n",
       "      <th>pessoa_idade</th>\n",
       "      <th>salario_ano</th>\n",
       "      <th>propriedade_sit</th>\n",
       "      <th>ano_trabalhado</th>\n",
       "      <th>motivo_emprestimo</th>\n",
       "      <th>pontuacao_emprestimos</th>\n",
       "      <th>vl_total</th>\n",
       "      <th>tx_juros</th>\n",
       "      <th>inadimplencia</th>\n",
       "      <th>tx_renda_divida</th>\n",
       "      <th>hst_inadimplencia</th>\n",
       "      <th>hst_primeiro_credito</th>\n",
       "    </tr>\n",
       "  </thead>\n",
       "  <tbody>\n",
       "    <tr>\n",
       "      <th>0</th>\n",
       "      <td>283zsKkk-MN9S</td>\n",
       "      <td>23.000</td>\n",
       "      <td>108000.000</td>\n",
       "      <td>Hipotecada</td>\n",
       "      <td>5.000</td>\n",
       "      <td>Pagamento de débitos</td>\n",
       "      <td>D</td>\n",
       "      <td>10000.000</td>\n",
       "      <td>NaN</td>\n",
       "      <td>1.000</td>\n",
       "      <td>0.090</td>\n",
       "      <td>1.000</td>\n",
       "      <td>2</td>\n",
       "    </tr>\n",
       "    <tr>\n",
       "      <th>1</th>\n",
       "      <td>4tD36gcw-IrsA</td>\n",
       "      <td>31.000</td>\n",
       "      <td>35000.000</td>\n",
       "      <td>Hipotecada</td>\n",
       "      <td>2.000</td>\n",
       "      <td>Pagamento de débitos</td>\n",
       "      <td>B</td>\n",
       "      <td>10225.000</td>\n",
       "      <td>9.990</td>\n",
       "      <td>0.000</td>\n",
       "      <td>0.290</td>\n",
       "      <td>0.000</td>\n",
       "      <td>6</td>\n",
       "    </tr>\n",
       "    <tr>\n",
       "      <th>2</th>\n",
       "      <td>08iwXXZl-5U5x</td>\n",
       "      <td>22.000</td>\n",
       "      <td>14400.000</td>\n",
       "      <td>Própria</td>\n",
       "      <td>0.000</td>\n",
       "      <td>Pessoal</td>\n",
       "      <td>B</td>\n",
       "      <td>2100.000</td>\n",
       "      <td>11.140</td>\n",
       "      <td>0.000</td>\n",
       "      <td>0.150</td>\n",
       "      <td>0.000</td>\n",
       "      <td>4</td>\n",
       "    </tr>\n",
       "    <tr>\n",
       "      <th>3</th>\n",
       "      <td>0PtiPv5h-nd0L</td>\n",
       "      <td>21.000</td>\n",
       "      <td>47580.000</td>\n",
       "      <td>Hipotecada</td>\n",
       "      <td>5.000</td>\n",
       "      <td>Educativo</td>\n",
       "      <td>A</td>\n",
       "      <td>14000.000</td>\n",
       "      <td>6.030</td>\n",
       "      <td>0.000</td>\n",
       "      <td>0.290</td>\n",
       "      <td>0.000</td>\n",
       "      <td>2</td>\n",
       "    </tr>\n",
       "    <tr>\n",
       "      <th>4</th>\n",
       "      <td>3QKc0Idh-OAkE</td>\n",
       "      <td>33.000</td>\n",
       "      <td>115000.000</td>\n",
       "      <td>Hipotecada</td>\n",
       "      <td>10.000</td>\n",
       "      <td>Médico</td>\n",
       "      <td>B</td>\n",
       "      <td>25000.000</td>\n",
       "      <td>11.860</td>\n",
       "      <td>0.000</td>\n",
       "      <td>0.220</td>\n",
       "      <td>0.000</td>\n",
       "      <td>8</td>\n",
       "    </tr>\n",
       "  </tbody>\n",
       "</table>\n",
       "</div>"
      ],
      "text/plain": [
       "       pessoa_id  pessoa_idade  salario_ano propriedade_sit  ano_trabalhado  \\\n",
       "0  283zsKkk-MN9S        23.000   108000.000      Hipotecada           5.000   \n",
       "1  4tD36gcw-IrsA        31.000    35000.000      Hipotecada           2.000   \n",
       "2  08iwXXZl-5U5x        22.000    14400.000         Própria           0.000   \n",
       "3  0PtiPv5h-nd0L        21.000    47580.000      Hipotecada           5.000   \n",
       "4  3QKc0Idh-OAkE        33.000   115000.000      Hipotecada          10.000   \n",
       "\n",
       "      motivo_emprestimo pontuacao_emprestimos  vl_total  tx_juros  \\\n",
       "0  Pagamento de débitos                     D 10000.000       NaN   \n",
       "1  Pagamento de débitos                     B 10225.000     9.990   \n",
       "2               Pessoal                     B  2100.000    11.140   \n",
       "3             Educativo                     A 14000.000     6.030   \n",
       "4                Médico                     B 25000.000    11.860   \n",
       "\n",
       "   inadimplencia  tx_renda_divida  hst_inadimplencia  hst_primeiro_credito  \n",
       "0          1.000            0.090              1.000                     2  \n",
       "1          0.000            0.290              0.000                     6  \n",
       "2          0.000            0.150              0.000                     4  \n",
       "3          0.000            0.290              0.000                     2  \n",
       "4          0.000            0.220              0.000                     8  "
      ]
     },
     "execution_count": 17,
     "metadata": {},
     "output_type": "execute_result"
    }
   ],
   "source": [
    "dados_raw = pd.read_sql('select * from analise_risco.dados_modelo_ml', cnx)\n",
    "\n",
    "dados_raw.head()"
   ]
  },
  {
   "cell_type": "code",
   "execution_count": 19,
   "metadata": {},
   "outputs": [
    {
     "name": "stderr",
     "output_type": "stream",
     "text": [
      "c:\\Users\\PauloVinicius\\Documents\\GitHub\\AluraChallengeDataScience2\\ambienteAluraChallengeDados\\lib\\site-packages\\sklearn\\utils\\deprecation.py:87: FutureWarning: Function get_feature_names is deprecated; get_feature_names is deprecated in 1.0 and will be removed in 1.2. Please use get_feature_names_out instead.\n",
      "  warnings.warn(msg, category=FutureWarning)\n"
     ]
    },
    {
     "data": {
      "text/html": [
       "<div>\n",
       "<style scoped>\n",
       "    .dataframe tbody tr th:only-of-type {\n",
       "        vertical-align: middle;\n",
       "    }\n",
       "\n",
       "    .dataframe tbody tr th {\n",
       "        vertical-align: top;\n",
       "    }\n",
       "\n",
       "    .dataframe thead th {\n",
       "        text-align: right;\n",
       "    }\n",
       "</style>\n",
       "<table border=\"1\" class=\"dataframe\">\n",
       "  <thead>\n",
       "    <tr style=\"text-align: right;\">\n",
       "      <th></th>\n",
       "      <th>onehotencoder__x0_-</th>\n",
       "      <th>onehotencoder__x0_Alugada</th>\n",
       "      <th>onehotencoder__x0_Hipotecada</th>\n",
       "      <th>onehotencoder__x0_Outros</th>\n",
       "      <th>onehotencoder__x0_Própria</th>\n",
       "      <th>onehotencoder__x1_-</th>\n",
       "      <th>onehotencoder__x1_Educativo</th>\n",
       "      <th>onehotencoder__x1_Empreendimento</th>\n",
       "      <th>onehotencoder__x1_Melhora do lar</th>\n",
       "      <th>onehotencoder__x1_Médico</th>\n",
       "      <th>...</th>\n",
       "      <th>pessoa_id</th>\n",
       "      <th>pessoa_idade</th>\n",
       "      <th>salario_ano</th>\n",
       "      <th>ano_trabalhado</th>\n",
       "      <th>vl_total</th>\n",
       "      <th>tx_juros</th>\n",
       "      <th>inadimplencia</th>\n",
       "      <th>tx_renda_divida</th>\n",
       "      <th>hst_inadimplencia</th>\n",
       "      <th>hst_primeiro_credito</th>\n",
       "    </tr>\n",
       "  </thead>\n",
       "  <tbody>\n",
       "    <tr>\n",
       "      <th>0</th>\n",
       "      <td>0.000</td>\n",
       "      <td>0.000</td>\n",
       "      <td>1.000</td>\n",
       "      <td>0.000</td>\n",
       "      <td>0.000</td>\n",
       "      <td>0.000</td>\n",
       "      <td>0.000</td>\n",
       "      <td>0.000</td>\n",
       "      <td>0.000</td>\n",
       "      <td>0.000</td>\n",
       "      <td>...</td>\n",
       "      <td>283zsKkk-MN9S</td>\n",
       "      <td>23.000</td>\n",
       "      <td>108000.000</td>\n",
       "      <td>5.000</td>\n",
       "      <td>10000.000</td>\n",
       "      <td>NaN</td>\n",
       "      <td>1.000</td>\n",
       "      <td>0.090</td>\n",
       "      <td>1.000</td>\n",
       "      <td>2</td>\n",
       "    </tr>\n",
       "    <tr>\n",
       "      <th>1</th>\n",
       "      <td>0.000</td>\n",
       "      <td>0.000</td>\n",
       "      <td>1.000</td>\n",
       "      <td>0.000</td>\n",
       "      <td>0.000</td>\n",
       "      <td>0.000</td>\n",
       "      <td>0.000</td>\n",
       "      <td>0.000</td>\n",
       "      <td>0.000</td>\n",
       "      <td>0.000</td>\n",
       "      <td>...</td>\n",
       "      <td>4tD36gcw-IrsA</td>\n",
       "      <td>31.000</td>\n",
       "      <td>35000.000</td>\n",
       "      <td>2.000</td>\n",
       "      <td>10225.000</td>\n",
       "      <td>9.990</td>\n",
       "      <td>0.000</td>\n",
       "      <td>0.290</td>\n",
       "      <td>0.000</td>\n",
       "      <td>6</td>\n",
       "    </tr>\n",
       "    <tr>\n",
       "      <th>2</th>\n",
       "      <td>0.000</td>\n",
       "      <td>0.000</td>\n",
       "      <td>0.000</td>\n",
       "      <td>0.000</td>\n",
       "      <td>1.000</td>\n",
       "      <td>0.000</td>\n",
       "      <td>0.000</td>\n",
       "      <td>0.000</td>\n",
       "      <td>0.000</td>\n",
       "      <td>0.000</td>\n",
       "      <td>...</td>\n",
       "      <td>08iwXXZl-5U5x</td>\n",
       "      <td>22.000</td>\n",
       "      <td>14400.000</td>\n",
       "      <td>0.000</td>\n",
       "      <td>2100.000</td>\n",
       "      <td>11.140</td>\n",
       "      <td>0.000</td>\n",
       "      <td>0.150</td>\n",
       "      <td>0.000</td>\n",
       "      <td>4</td>\n",
       "    </tr>\n",
       "    <tr>\n",
       "      <th>3</th>\n",
       "      <td>0.000</td>\n",
       "      <td>0.000</td>\n",
       "      <td>1.000</td>\n",
       "      <td>0.000</td>\n",
       "      <td>0.000</td>\n",
       "      <td>0.000</td>\n",
       "      <td>1.000</td>\n",
       "      <td>0.000</td>\n",
       "      <td>0.000</td>\n",
       "      <td>0.000</td>\n",
       "      <td>...</td>\n",
       "      <td>0PtiPv5h-nd0L</td>\n",
       "      <td>21.000</td>\n",
       "      <td>47580.000</td>\n",
       "      <td>5.000</td>\n",
       "      <td>14000.000</td>\n",
       "      <td>6.030</td>\n",
       "      <td>0.000</td>\n",
       "      <td>0.290</td>\n",
       "      <td>0.000</td>\n",
       "      <td>2</td>\n",
       "    </tr>\n",
       "    <tr>\n",
       "      <th>4</th>\n",
       "      <td>0.000</td>\n",
       "      <td>0.000</td>\n",
       "      <td>1.000</td>\n",
       "      <td>0.000</td>\n",
       "      <td>0.000</td>\n",
       "      <td>0.000</td>\n",
       "      <td>0.000</td>\n",
       "      <td>0.000</td>\n",
       "      <td>0.000</td>\n",
       "      <td>1.000</td>\n",
       "      <td>...</td>\n",
       "      <td>3QKc0Idh-OAkE</td>\n",
       "      <td>33.000</td>\n",
       "      <td>115000.000</td>\n",
       "      <td>10.000</td>\n",
       "      <td>25000.000</td>\n",
       "      <td>11.860</td>\n",
       "      <td>0.000</td>\n",
       "      <td>0.220</td>\n",
       "      <td>0.000</td>\n",
       "      <td>8</td>\n",
       "    </tr>\n",
       "  </tbody>\n",
       "</table>\n",
       "<p>5 rows × 30 columns</p>\n",
       "</div>"
      ],
      "text/plain": [
       "  onehotencoder__x0_- onehotencoder__x0_Alugada onehotencoder__x0_Hipotecada  \\\n",
       "0               0.000                     0.000                        1.000   \n",
       "1               0.000                     0.000                        1.000   \n",
       "2               0.000                     0.000                        0.000   \n",
       "3               0.000                     0.000                        1.000   \n",
       "4               0.000                     0.000                        1.000   \n",
       "\n",
       "  onehotencoder__x0_Outros onehotencoder__x0_Própria onehotencoder__x1_-  \\\n",
       "0                    0.000                     0.000               0.000   \n",
       "1                    0.000                     0.000               0.000   \n",
       "2                    0.000                     1.000               0.000   \n",
       "3                    0.000                     0.000               0.000   \n",
       "4                    0.000                     0.000               0.000   \n",
       "\n",
       "  onehotencoder__x1_Educativo onehotencoder__x1_Empreendimento  \\\n",
       "0                       0.000                            0.000   \n",
       "1                       0.000                            0.000   \n",
       "2                       0.000                            0.000   \n",
       "3                       1.000                            0.000   \n",
       "4                       0.000                            0.000   \n",
       "\n",
       "  onehotencoder__x1_Melhora do lar onehotencoder__x1_Médico  ...  \\\n",
       "0                            0.000                    0.000  ...   \n",
       "1                            0.000                    0.000  ...   \n",
       "2                            0.000                    0.000  ...   \n",
       "3                            0.000                    0.000  ...   \n",
       "4                            0.000                    1.000  ...   \n",
       "\n",
       "       pessoa_id pessoa_idade salario_ano ano_trabalhado  vl_total tx_juros  \\\n",
       "0  283zsKkk-MN9S       23.000  108000.000          5.000 10000.000      NaN   \n",
       "1  4tD36gcw-IrsA       31.000   35000.000          2.000 10225.000    9.990   \n",
       "2  08iwXXZl-5U5x       22.000   14400.000          0.000  2100.000   11.140   \n",
       "3  0PtiPv5h-nd0L       21.000   47580.000          5.000 14000.000    6.030   \n",
       "4  3QKc0Idh-OAkE       33.000  115000.000         10.000 25000.000   11.860   \n",
       "\n",
       "  inadimplencia tx_renda_divida hst_inadimplencia hst_primeiro_credito  \n",
       "0         1.000           0.090             1.000                    2  \n",
       "1         0.000           0.290             0.000                    6  \n",
       "2         0.000           0.150             0.000                    4  \n",
       "3         0.000           0.290             0.000                    2  \n",
       "4         0.000           0.220             0.000                    8  \n",
       "\n",
       "[5 rows x 30 columns]"
      ]
     },
     "execution_count": 19,
     "metadata": {},
     "output_type": "execute_result"
    }
   ],
   "source": [
    "#Variaveis Categóricas\n",
    "\n",
    "# propriedade_sit\n",
    "# motivo_emprestimo\n",
    "# pontuacao_emprestimos\n",
    "\n",
    "colunas_categoricas = ['propriedade_sit',\n",
    "                       'motivo_emprestimo', 'pontuacao_emprestimos']\n",
    "\n",
    "one_hot_enc = make_column_transformer(\n",
    "    (OneHotEncoder(handle_unknown='ignore'),\n",
    "     colunas_categoricas),\n",
    "    remainder='passthrough')\n",
    "\n",
    "dados = one_hot_enc.fit_transform(dados_raw)\n",
    "\n",
    "dados = pd.DataFrame(dados, columns=one_hot_enc.get_feature_names())\n",
    "dados.head()\n"
   ]
  },
  {
   "cell_type": "code",
   "execution_count": 20,
   "metadata": {},
   "outputs": [
    {
     "data": {
      "text/html": [
       "<div>\n",
       "<style scoped>\n",
       "    .dataframe tbody tr th:only-of-type {\n",
       "        vertical-align: middle;\n",
       "    }\n",
       "\n",
       "    .dataframe tbody tr th {\n",
       "        vertical-align: top;\n",
       "    }\n",
       "\n",
       "    .dataframe thead th {\n",
       "        text-align: right;\n",
       "    }\n",
       "</style>\n",
       "<table border=\"1\" class=\"dataframe\">\n",
       "  <thead>\n",
       "    <tr style=\"text-align: right;\">\n",
       "      <th></th>\n",
       "      <th>pessoa_idade</th>\n",
       "      <th>salario_ano</th>\n",
       "      <th>ano_trabalhado</th>\n",
       "      <th>vl_total</th>\n",
       "      <th>tx_juros</th>\n",
       "      <th>tx_renda_divida</th>\n",
       "      <th>hst_primeiro_credito</th>\n",
       "    </tr>\n",
       "  </thead>\n",
       "  <tbody>\n",
       "    <tr>\n",
       "      <th>count</th>\n",
       "      <td>34165.000</td>\n",
       "      <td>34150.000</td>\n",
       "      <td>33231.000</td>\n",
       "      <td>34154.000</td>\n",
       "      <td>30859.000</td>\n",
       "      <td>34170.000</td>\n",
       "      <td>34485</td>\n",
       "    </tr>\n",
       "    <tr>\n",
       "      <th>unique</th>\n",
       "      <td>58.000</td>\n",
       "      <td>4295.000</td>\n",
       "      <td>36.000</td>\n",
       "      <td>753.000</td>\n",
       "      <td>348.000</td>\n",
       "      <td>77.000</td>\n",
       "      <td>29</td>\n",
       "    </tr>\n",
       "    <tr>\n",
       "      <th>top</th>\n",
       "      <td>23.000</td>\n",
       "      <td>60000.000</td>\n",
       "      <td>0.000</td>\n",
       "      <td>10000.000</td>\n",
       "      <td>10.990</td>\n",
       "      <td>0.100</td>\n",
       "      <td>2</td>\n",
       "    </tr>\n",
       "    <tr>\n",
       "      <th>freq</th>\n",
       "      <td>4079.000</td>\n",
       "      <td>1097.000</td>\n",
       "      <td>4317.000</td>\n",
       "      <td>2798.000</td>\n",
       "      <td>795.000</td>\n",
       "      <td>1615.000</td>\n",
       "      <td>6312</td>\n",
       "    </tr>\n",
       "  </tbody>\n",
       "</table>\n",
       "</div>"
      ],
      "text/plain": [
       "        pessoa_idade  salario_ano  ano_trabalhado  vl_total  tx_juros  \\\n",
       "count      34165.000    34150.000       33231.000 34154.000 30859.000   \n",
       "unique        58.000     4295.000          36.000   753.000   348.000   \n",
       "top           23.000    60000.000           0.000 10000.000    10.990   \n",
       "freq        4079.000     1097.000        4317.000  2798.000   795.000   \n",
       "\n",
       "        tx_renda_divida  hst_primeiro_credito  \n",
       "count         34170.000                 34485  \n",
       "unique           77.000                    29  \n",
       "top               0.100                     2  \n",
       "freq           1615.000                  6312  "
      ]
     },
     "execution_count": 20,
     "metadata": {},
     "output_type": "execute_result"
    }
   ],
   "source": [
    "# Analise das Variaveis Numéricas\n",
    "\n",
    "# pessoa_idade\n",
    "# salario_ano\n",
    "# ano_trabalhado\n",
    "# vl_total\n",
    "# tx_juros\n",
    "# tx_renda_divida\n",
    "# hst_primeiro_credito\n",
    "\n",
    "colunas_numericas = [\"pessoa_idade\",\n",
    "\"salario_ano\",\n",
    "\"ano_trabalhado\",\n",
    "\"vl_total\",\n",
    "\"tx_juros\",\n",
    "\"tx_renda_divida\",\n",
    "\"hst_primeiro_credito\"]\n",
    "\n",
    "dados[colunas_numericas].describe()\n"
   ]
  },
  {
   "cell_type": "code",
   "execution_count": 11,
   "metadata": {},
   "outputs": [],
   "source": [
    "# histogramas = ['pessoa_idade', 'salario_ano',\n",
    "#                'ano_trabalhado', 'hst_inadimplencia']\n",
    "# histogramas = list(enumerate(histogramas))\n",
    "\n",
    "# plt.figure(figsize=(30, 20))\n",
    "\n",
    "# for i in histogramas:\n",
    "#     plt.subplot(2, 2, i[0]+1)\n",
    "#     sns.countplot(i[1], data=dados)\n",
    "#     plt.title(i[1])\n",
    "#     plt.xticks(rotation=45)\n"
   ]
  },
  {
   "cell_type": "markdown",
   "metadata": {},
   "source": [
    "# Trabalhando com os Nulos.\n",
    "\n",
    "  - Criar um Dataset sem nulos.\n",
    "  - Criar um Dataset com os nulos tratados.\n"
   ]
  },
  {
   "cell_type": "markdown",
   "metadata": {},
   "source": [
    "Dataset sem nulos:"
   ]
  },
  {
   "cell_type": "code",
   "execution_count": null,
   "metadata": {},
   "outputs": [],
   "source": [
    "df_dados_semnulos = dados.dropna()\n",
    "\n",
    "df_dados_semnulos.info()"
   ]
  },
  {
   "cell_type": "markdown",
   "metadata": {},
   "source": [
    "Nulos Tratados"
   ]
  },
  {
   "cell_type": "markdown",
   "metadata": {},
   "source": [
    "A idea é obter a mediana da variavel alvo atraves de agrupamento de outras variveis a qual não se possui valores nulos nas colunas."
   ]
  },
  {
   "cell_type": "code",
   "execution_count": 13,
   "metadata": {},
   "outputs": [],
   "source": [
    "# Para o segundo Dataset precisamos tratar estas colunas.\n",
    "# pessoa_idade              320 Lista_GroupBY\n",
    "# salario_ano               335 Lista_GroupBY\n",
    "# ano_trabalhado           1254 Lista_GroupBY\n",
    "# vl_total                  331 Exclusão\n",
    "# tx_juros                 3626 Calcular\n",
    "# inadimplencia             343 Separar \n",
    "\n",
    "# hst_inadimplencia         366 "
   ]
  },
  {
   "cell_type": "code",
   "execution_count": 23,
   "metadata": {},
   "outputs": [],
   "source": [
    "# teste = dados.copy()\n",
    "\n",
    "#duvida sobre hst_inadimplencia, se a media ou existe uma forma melhor de preencher.\n",
    "\n",
    "# Para melhor desempenho remover mais os dados nulos ( challenge)\n",
    "\n",
    "lista_groupby = ['pessoa_idade', 'salario_ano',\n",
    "                 'ano_trabalhado', 'tx_juros', 'hst_inadimplencia']\n",
    "\n",
    "for i in lista_groupby:\n",
    "    dados[i].fillna(dados_raw.groupby(['propriedade_sit', 'motivo_emprestimo'])[i].transform('mean'), inplace=True)\n",
    "\n",
    "\n",
    "# vl_total 331 nulos apenas, então irei excluir os registros\n",
    "dados.dropna(axis=0,subset=['vl_total'], inplace=True)\n",
    "\n",
    "# tx_renda_divida 315 por mais que seja pequeno o numero de nulos, é possível calcular.\n",
    "dados.tx_renda_divida.fillna(dados.vl_total/dados.salario_ano, inplace=True)\n",
    "\n",
    "# inadimplência             343\n",
    "# Vou separar os dados nulos desta coluna para um dataset de predição, ja que no dicionario de dados consta como:\n",
    "#possibilidade de inadimplência.\n",
    "\n",
    "predicao = dados.copy(deep=True)\n",
    "mask = pd.isnull(dados['inadimplencia'])\n",
    "predicao = predicao[mask]\n",
    "\n",
    "dados.dropna(axis=0,subset=['inadimplencia'], inplace=True)\n",
    "\n"
   ]
  },
  {
   "cell_type": "code",
   "execution_count": null,
   "metadata": {},
   "outputs": [],
   "source": [
    "predicao.reset_index(drop=True, inplace=True)\n",
    "predicao.info()"
   ]
  },
  {
   "cell_type": "markdown",
   "metadata": {},
   "source": [
    "# Tratamento de Variaveis Numericas"
   ]
  },
  {
   "cell_type": "markdown",
   "metadata": {},
   "source": [
    "# Variaveis Numéricas\n"
   ]
  },
  {
   "cell_type": "code",
   "execution_count": 25,
   "metadata": {},
   "outputs": [
    {
     "data": {
      "text/html": [
       "<div>\n",
       "<style scoped>\n",
       "    .dataframe tbody tr th:only-of-type {\n",
       "        vertical-align: middle;\n",
       "    }\n",
       "\n",
       "    .dataframe tbody tr th {\n",
       "        vertical-align: top;\n",
       "    }\n",
       "\n",
       "    .dataframe thead th {\n",
       "        text-align: right;\n",
       "    }\n",
       "</style>\n",
       "<table border=\"1\" class=\"dataframe\">\n",
       "  <thead>\n",
       "    <tr style=\"text-align: right;\">\n",
       "      <th></th>\n",
       "      <th>pessoa_idade</th>\n",
       "      <th>salario_ano</th>\n",
       "      <th>ano_trabalhado</th>\n",
       "      <th>tx_juros</th>\n",
       "      <th>tx_renda_divida</th>\n",
       "    </tr>\n",
       "  </thead>\n",
       "  <tbody>\n",
       "    <tr>\n",
       "      <th>count</th>\n",
       "      <td>33847.000</td>\n",
       "      <td>33847.000</td>\n",
       "      <td>33847.000</td>\n",
       "      <td>33847.000</td>\n",
       "      <td>33847.000</td>\n",
       "    </tr>\n",
       "    <tr>\n",
       "      <th>mean</th>\n",
       "      <td>27.732</td>\n",
       "      <td>66072.684</td>\n",
       "      <td>4.793</td>\n",
       "      <td>11.013</td>\n",
       "      <td>0.171</td>\n",
       "    </tr>\n",
       "    <tr>\n",
       "      <th>std</th>\n",
       "      <td>6.319</td>\n",
       "      <td>61323.660</td>\n",
       "      <td>4.073</td>\n",
       "      <td>3.072</td>\n",
       "      <td>0.108</td>\n",
       "    </tr>\n",
       "    <tr>\n",
       "      <th>min</th>\n",
       "      <td>20.000</td>\n",
       "      <td>4000.000</td>\n",
       "      <td>0.000</td>\n",
       "      <td>5.420</td>\n",
       "      <td>0.000</td>\n",
       "    </tr>\n",
       "    <tr>\n",
       "      <th>25%</th>\n",
       "      <td>23.000</td>\n",
       "      <td>39000.000</td>\n",
       "      <td>2.000</td>\n",
       "      <td>8.490</td>\n",
       "      <td>0.090</td>\n",
       "    </tr>\n",
       "    <tr>\n",
       "      <th>50%</th>\n",
       "      <td>26.000</td>\n",
       "      <td>55000.000</td>\n",
       "      <td>4.000</td>\n",
       "      <td>10.990</td>\n",
       "      <td>0.150</td>\n",
       "    </tr>\n",
       "    <tr>\n",
       "      <th>75%</th>\n",
       "      <td>30.000</td>\n",
       "      <td>79200.000</td>\n",
       "      <td>7.000</td>\n",
       "      <td>13.110</td>\n",
       "      <td>0.230</td>\n",
       "    </tr>\n",
       "    <tr>\n",
       "      <th>max</th>\n",
       "      <td>144.000</td>\n",
       "      <td>6000000.000</td>\n",
       "      <td>123.000</td>\n",
       "      <td>23.220</td>\n",
       "      <td>1.419</td>\n",
       "    </tr>\n",
       "  </tbody>\n",
       "</table>\n",
       "</div>"
      ],
      "text/plain": [
       "       pessoa_idade  salario_ano  ano_trabalhado  tx_juros  tx_renda_divida\n",
       "count     33847.000    33847.000       33847.000 33847.000        33847.000\n",
       "mean         27.732    66072.684           4.793    11.013            0.171\n",
       "std           6.319    61323.660           4.073     3.072            0.108\n",
       "min          20.000     4000.000           0.000     5.420            0.000\n",
       "25%          23.000    39000.000           2.000     8.490            0.090\n",
       "50%          26.000    55000.000           4.000    10.990            0.150\n",
       "75%          30.000    79200.000           7.000    13.110            0.230\n",
       "max         144.000  6000000.000         123.000    23.220            1.419"
      ]
     },
     "execution_count": 25,
     "metadata": {},
     "output_type": "execute_result"
    }
   ],
   "source": [
    "df_numericos = dados[colunas_numericas].copy()\n",
    "\n",
    "df_numericos.describe()"
   ]
  },
  {
   "cell_type": "code",
   "execution_count": 26,
   "metadata": {},
   "outputs": [
    {
     "data": {
      "text/plain": [
       "<AxesSubplot:xlabel='hst_primeiro_credito'>"
      ]
     },
     "execution_count": 26,
     "metadata": {},
     "output_type": "execute_result"
    },
    {
     "data": {
      "image/png": "[encoded data removed]",
      "text/plain": [
       "<Figure size 640x480 with 1 Axes>"
      ]
     },
     "metadata": {},
     "output_type": "display_data"
    }
   ],
   "source": [
    "# for i in colunas_numericas:\n",
    "#     plt.figure()\n",
    "#     sns.boxplot(x=df_numericos[i])\n",
    "    \n",
    "sns.boxplot(x=df_numericos['hst_primeiro_credito'])\n"
   ]
  },
  {
   "cell_type": "markdown",
   "metadata": {},
   "source": [
    "# Idade\n",
    " -pessoa_idade"
   ]
  },
  {
   "cell_type": "code",
   "execution_count": 27,
   "metadata": {},
   "outputs": [
    {
     "data": {
      "text/plain": [
       "<AxesSubplot:xlabel='pessoa_idade', ylabel='count'>"
      ]
     },
     "execution_count": 27,
     "metadata": {},
     "output_type": "execute_result"
    },
    {
     "data": {
      "image/png": "[encoded data removed]",
      "text/plain": [
       "<Figure size 640x480 with 1 Axes>"
      ]
     },
     "metadata": {},
     "output_type": "display_data"
    }
   ],
   "source": [
    "out = dados['pessoa_idade'].where(dados['pessoa_idade'] > 60)\n",
    "sns.countplot(x=out)"
   ]
  },
  {
   "cell_type": "code",
   "execution_count": 28,
   "metadata": {},
   "outputs": [],
   "source": [
    "#Apagar 2 pessoas acima de 100 anos\n",
    "dados.drop(dados[dados[\"pessoa_idade\"] > 86].index, inplace=True)\n",
    "\n",
    "# Percebe-se que a idade se concentra entre 20 e 40 anos\n",
    "# Teste sobre criar uma coluna de faixas etárias com intervalo de 5 anos.\n",
    "\n",
    "faixa_etaria = [15, 20,25, 30, 35, 40, 45, 50, 55, 60, 65, 70, 75, 80, 85]\n",
    "faixa_etaria_labels = [1,2,3,4,5,6,7,8,9,10,11,12,13,14]\n",
    "\n",
    "dados['faixa_idade'] = pd.cut(\n",
    "    x=dados['pessoa_idade'], bins=faixa_etaria, labels=faixa_etaria_labels)\n",
    "\n",
    "predicao['faixa_idade'] = pd.cut(\n",
    "    x=predicao['pessoa_idade'], bins=faixa_etaria, labels=faixa_etaria_labels)\n",
    "\n"
   ]
  },
  {
   "cell_type": "markdown",
   "metadata": {},
   "source": [
    "# Salario Ano"
   ]
  },
  {
   "cell_type": "code",
   "execution_count": 31,
   "metadata": {},
   "outputs": [],
   "source": [
    "dados['Faixa_Salarial'] = pd.qcut(dados['salario_ano'],  q=10, labels=False)\n",
    "\n",
    "# predicao['Faixa_Salarial'] = pd.qcut(predicao['salario_ano'],  q=10, labels=False)\n"
   ]
  },
  {
   "cell_type": "markdown",
   "metadata": {},
   "source": [
    "# Ano Trabalhado"
   ]
  },
  {
   "cell_type": "code",
   "execution_count": 32,
   "metadata": {},
   "outputs": [
    {
     "data": {
      "text/plain": [
       "<AxesSubplot:xlabel='ano_trabalhado', ylabel='count'>"
      ]
     },
     "execution_count": 32,
     "metadata": {},
     "output_type": "execute_result"
    },
    {
     "data": {
      "image/png": "[encoded data removed]",
      "text/plain": [
       "<Figure size 640x480 with 1 Axes>"
      ]
     },
     "metadata": {},
     "output_type": "display_data"
    }
   ],
   "source": [
    "out = dados['ano_trabalhado'].where(dados['ano_trabalhado'] > 20)\n",
    "sns.countplot(x=out)\n"
   ]
  },
  {
   "cell_type": "code",
   "execution_count": 33,
   "metadata": {},
   "outputs": [],
   "source": [
    "dados.drop(\n",
    "    dados[dados[\"ano_trabalhado\"] > 50].index, inplace=True)\n"
   ]
  },
  {
   "cell_type": "code",
   "execution_count": 34,
   "metadata": {},
   "outputs": [
    {
     "ename": "ValueError",
     "evalue": "min() arg is an empty sequence",
     "output_type": "error",
     "traceback": [
      "\u001b[1;31m---------------------------------------------------------------------------\u001b[0m",
      "\u001b[1;31mValueError\u001b[0m                                Traceback (most recent call last)",
      "\u001b[1;32mc:\\Users\\PauloVinicius\\Documents\\GitHub\\AluraChallengeDataScience2\\Notebook.ipynb Célula: 27\u001b[0m in \u001b[0;36m<cell line: 2>\u001b[1;34m()\u001b[0m\n\u001b[0;32m      <a href='vscode-notebook-cell:/c%3A/Users/PauloVinicius/Documents/GitHub/AluraChallengeDataScience2/Notebook.ipynb#X35sZmlsZQ%3D%3D?line=0'>1</a>\u001b[0m out \u001b[39m=\u001b[39m predicao[\u001b[39m'\u001b[39m\u001b[39mano_trabalhado\u001b[39m\u001b[39m'\u001b[39m]\u001b[39m.\u001b[39mwhere(predicao[\u001b[39m'\u001b[39m\u001b[39mano_trabalhado\u001b[39m\u001b[39m'\u001b[39m] \u001b[39m>\u001b[39m \u001b[39m20\u001b[39m)\n\u001b[1;32m----> <a href='vscode-notebook-cell:/c%3A/Users/PauloVinicius/Documents/GitHub/AluraChallengeDataScience2/Notebook.ipynb#X35sZmlsZQ%3D%3D?line=1'>2</a>\u001b[0m sns\u001b[39m.\u001b[39;49mcountplot(x\u001b[39m=\u001b[39;49mout)\n",
      "File \u001b[1;32mc:\\Users\\PauloVinicius\\Documents\\GitHub\\AluraChallengeDataScience2\\ambienteAluraChallengeDados\\lib\\site-packages\\seaborn\\_decorators.py:46\u001b[0m, in \u001b[0;36m_deprecate_positional_args.<locals>.inner_f\u001b[1;34m(*args, **kwargs)\u001b[0m\n\u001b[0;32m     36\u001b[0m     warnings\u001b[39m.\u001b[39mwarn(\n\u001b[0;32m     37\u001b[0m         \u001b[39m\"\u001b[39m\u001b[39mPass the following variable\u001b[39m\u001b[39m{}\u001b[39;00m\u001b[39m as \u001b[39m\u001b[39m{}\u001b[39;00m\u001b[39mkeyword arg\u001b[39m\u001b[39m{}\u001b[39;00m\u001b[39m: \u001b[39m\u001b[39m{}\u001b[39;00m\u001b[39m. \u001b[39m\u001b[39m\"\u001b[39m\n\u001b[0;32m     38\u001b[0m         \u001b[39m\"\u001b[39m\u001b[39mFrom version 0.12, the only valid positional argument \u001b[39m\u001b[39m\"\u001b[39m\n\u001b[1;32m   (...)\u001b[0m\n\u001b[0;32m     43\u001b[0m         \u001b[39mFutureWarning\u001b[39;00m\n\u001b[0;32m     44\u001b[0m     )\n\u001b[0;32m     45\u001b[0m kwargs\u001b[39m.\u001b[39mupdate({k: arg \u001b[39mfor\u001b[39;00m k, arg \u001b[39min\u001b[39;00m \u001b[39mzip\u001b[39m(sig\u001b[39m.\u001b[39mparameters, args)})\n\u001b[1;32m---> 46\u001b[0m \u001b[39mreturn\u001b[39;00m f(\u001b[39m*\u001b[39m\u001b[39m*\u001b[39mkwargs)\n",
      "File \u001b[1;32mc:\\Users\\PauloVinicius\\Documents\\GitHub\\AluraChallengeDataScience2\\ambienteAluraChallengeDados\\lib\\site-packages\\seaborn\\categorical.py:3598\u001b[0m, in \u001b[0;36mcountplot\u001b[1;34m(x, y, hue, data, order, hue_order, orient, color, palette, saturation, dodge, ax, **kwargs)\u001b[0m\n\u001b[0;32m   3595\u001b[0m \u001b[39melif\u001b[39;00m x \u001b[39mis\u001b[39;00m \u001b[39mnot\u001b[39;00m \u001b[39mNone\u001b[39;00m \u001b[39mand\u001b[39;00m y \u001b[39mis\u001b[39;00m \u001b[39mnot\u001b[39;00m \u001b[39mNone\u001b[39;00m:\n\u001b[0;32m   3596\u001b[0m     \u001b[39mraise\u001b[39;00m \u001b[39mValueError\u001b[39;00m(\u001b[39m\"\u001b[39m\u001b[39mCannot pass values for both `x` and `y`\u001b[39m\u001b[39m\"\u001b[39m)\n\u001b[1;32m-> 3598\u001b[0m plotter \u001b[39m=\u001b[39m _CountPlotter(\n\u001b[0;32m   3599\u001b[0m     x, y, hue, data, order, hue_order,\n\u001b[0;32m   3600\u001b[0m     estimator, ci, n_boot, units, seed,\n\u001b[0;32m   3601\u001b[0m     orient, color, palette, saturation,\n\u001b[0;32m   3602\u001b[0m     errcolor, errwidth, capsize, dodge\n\u001b[0;32m   3603\u001b[0m )\n\u001b[0;32m   3605\u001b[0m plotter\u001b[39m.\u001b[39mvalue_label \u001b[39m=\u001b[39m \u001b[39m\"\u001b[39m\u001b[39mcount\u001b[39m\u001b[39m\"\u001b[39m\n\u001b[0;32m   3607\u001b[0m \u001b[39mif\u001b[39;00m ax \u001b[39mis\u001b[39;00m \u001b[39mNone\u001b[39;00m:\n",
      "File \u001b[1;32mc:\\Users\\PauloVinicius\\Documents\\GitHub\\AluraChallengeDataScience2\\ambienteAluraChallengeDados\\lib\\site-packages\\seaborn\\categorical.py:1586\u001b[0m, in \u001b[0;36m_BarPlotter.__init__\u001b[1;34m(self, x, y, hue, data, order, hue_order, estimator, ci, n_boot, units, seed, orient, color, palette, saturation, errcolor, errwidth, capsize, dodge)\u001b[0m\n\u001b[0;32m   1583\u001b[0m \u001b[39m\"\"\"Initialize the plotter.\"\"\"\u001b[39;00m\n\u001b[0;32m   1584\u001b[0m \u001b[39mself\u001b[39m\u001b[39m.\u001b[39mestablish_variables(x, y, hue, data, orient,\n\u001b[0;32m   1585\u001b[0m                          order, hue_order, units)\n\u001b[1;32m-> 1586\u001b[0m \u001b[39mself\u001b[39;49m\u001b[39m.\u001b[39;49mestablish_colors(color, palette, saturation)\n\u001b[0;32m   1587\u001b[0m \u001b[39mself\u001b[39m\u001b[39m.\u001b[39mestimate_statistic(estimator, ci, n_boot, seed)\n\u001b[0;32m   1589\u001b[0m \u001b[39mself\u001b[39m\u001b[39m.\u001b[39mdodge \u001b[39m=\u001b[39m dodge\n",
      "File \u001b[1;32mc:\\Users\\PauloVinicius\\Documents\\GitHub\\AluraChallengeDataScience2\\ambienteAluraChallengeDados\\lib\\site-packages\\seaborn\\categorical.py:319\u001b[0m, in \u001b[0;36m_CategoricalPlotter.establish_colors\u001b[1;34m(self, color, palette, saturation)\u001b[0m\n\u001b[0;32m    317\u001b[0m \u001b[39m# Determine the gray color to use for the lines framing the plot\u001b[39;00m\n\u001b[0;32m    318\u001b[0m light_vals \u001b[39m=\u001b[39m [colorsys\u001b[39m.\u001b[39mrgb_to_hls(\u001b[39m*\u001b[39mc)[\u001b[39m1\u001b[39m] \u001b[39mfor\u001b[39;00m c \u001b[39min\u001b[39;00m rgb_colors]\n\u001b[1;32m--> 319\u001b[0m lum \u001b[39m=\u001b[39m \u001b[39mmin\u001b[39;49m(light_vals) \u001b[39m*\u001b[39m \u001b[39m.6\u001b[39m\n\u001b[0;32m    320\u001b[0m gray \u001b[39m=\u001b[39m mpl\u001b[39m.\u001b[39mcolors\u001b[39m.\u001b[39mrgb2hex((lum, lum, lum))\n\u001b[0;32m    322\u001b[0m \u001b[39m# Assign object attributes\u001b[39;00m\n",
      "\u001b[1;31mValueError\u001b[0m: min() arg is an empty sequence"
     ]
    }
   ],
   "source": [
    "# out = predicao['ano_trabalhado'].where(predicao['ano_trabalhado'] > 20)\n",
    "# sns.countplot(x=out)\n"
   ]
  },
  {
   "cell_type": "markdown",
   "metadata": {},
   "source": [
    "# Valor Total"
   ]
  },
  {
   "cell_type": "code",
   "execution_count": 35,
   "metadata": {},
   "outputs": [
    {
     "data": {
      "text/plain": [
       "<AxesSubplot:xlabel='vl_total', ylabel='count'>"
      ]
     },
     "execution_count": 35,
     "metadata": {},
     "output_type": "execute_result"
    },
    {
     "data": {
      "image/png": "[encoded data removed]",
      "text/plain": [
       "<Figure size 640x480 with 1 Axes>"
      ]
     },
     "metadata": {},
     "output_type": "display_data"
    }
   ],
   "source": [
    "out = df_numericos['vl_total'].where(df_numericos['vl_total'] > 20000)\n",
    "sns.countplot(x=out)\n"
   ]
  },
  {
   "cell_type": "code",
   "execution_count": 37,
   "metadata": {},
   "outputs": [],
   "source": [
    "dados['Faixa_Emprestimo'] = pd.cut(x= dados['vl_total'], bins=35, labels=False)\n",
    "\n",
    "# predicao['Faixa_Emprestimo'] = pd.cut(x=predicao['vl_total'], bins=35, labels=False)\n"
   ]
  },
  {
   "cell_type": "code",
   "execution_count": 38,
   "metadata": {},
   "outputs": [
    {
     "data": {
      "text/plain": [
       "<AxesSubplot:xlabel='Faixa_Emprestimo', ylabel='count'>"
      ]
     },
     "execution_count": 38,
     "metadata": {},
     "output_type": "execute_result"
    },
    {
     "data": {
      "image/png": "[encoded data removed]",
      "text/plain": [
       "<Figure size 640x480 with 1 Axes>"
      ]
     },
     "metadata": {},
     "output_type": "display_data"
    }
   ],
   "source": [
    "sns.countplot(x=dados['Faixa_Emprestimo'])"
   ]
  },
  {
   "cell_type": "code",
   "execution_count": 39,
   "metadata": {},
   "outputs": [
    {
     "ename": "KeyError",
     "evalue": "'Faixa_Emprestimo'",
     "output_type": "error",
     "traceback": [
      "\u001b[1;31m---------------------------------------------------------------------------\u001b[0m",
      "\u001b[1;31mKeyError\u001b[0m                                  Traceback (most recent call last)",
      "File \u001b[1;32mc:\\Users\\PauloVinicius\\Documents\\GitHub\\AluraChallengeDataScience2\\ambienteAluraChallengeDados\\lib\\site-packages\\pandas\\core\\indexes\\base.py:3621\u001b[0m, in \u001b[0;36mIndex.get_loc\u001b[1;34m(self, key, method, tolerance)\u001b[0m\n\u001b[0;32m   3620\u001b[0m \u001b[39mtry\u001b[39;00m:\n\u001b[1;32m-> 3621\u001b[0m     \u001b[39mreturn\u001b[39;00m \u001b[39mself\u001b[39;49m\u001b[39m.\u001b[39;49m_engine\u001b[39m.\u001b[39;49mget_loc(casted_key)\n\u001b[0;32m   3622\u001b[0m \u001b[39mexcept\u001b[39;00m \u001b[39mKeyError\u001b[39;00m \u001b[39mas\u001b[39;00m err:\n",
      "File \u001b[1;32mc:\\Users\\PauloVinicius\\Documents\\GitHub\\AluraChallengeDataScience2\\ambienteAluraChallengeDados\\lib\\site-packages\\pandas\\_libs\\index.pyx:136\u001b[0m, in \u001b[0;36mpandas._libs.index.IndexEngine.get_loc\u001b[1;34m()\u001b[0m\n",
      "File \u001b[1;32mc:\\Users\\PauloVinicius\\Documents\\GitHub\\AluraChallengeDataScience2\\ambienteAluraChallengeDados\\lib\\site-packages\\pandas\\_libs\\index.pyx:163\u001b[0m, in \u001b[0;36mpandas._libs.index.IndexEngine.get_loc\u001b[1;34m()\u001b[0m\n",
      "File \u001b[1;32mpandas\\_libs\\hashtable_class_helper.pxi:5198\u001b[0m, in \u001b[0;36mpandas._libs.hashtable.PyObjectHashTable.get_item\u001b[1;34m()\u001b[0m\n",
      "File \u001b[1;32mpandas\\_libs\\hashtable_class_helper.pxi:5206\u001b[0m, in \u001b[0;36mpandas._libs.hashtable.PyObjectHashTable.get_item\u001b[1;34m()\u001b[0m\n",
      "\u001b[1;31mKeyError\u001b[0m: 'Faixa_Emprestimo'",
      "\nThe above exception was the direct cause of the following exception:\n",
      "\u001b[1;31mKeyError\u001b[0m                                  Traceback (most recent call last)",
      "\u001b[1;32mc:\\Users\\PauloVinicius\\Documents\\GitHub\\AluraChallengeDataScience2\\Notebook.ipynb Célula: 32\u001b[0m in \u001b[0;36m<cell line: 1>\u001b[1;34m()\u001b[0m\n\u001b[1;32m----> <a href='vscode-notebook-cell:/c%3A/Users/PauloVinicius/Documents/GitHub/AluraChallengeDataScience2/Notebook.ipynb#X43sZmlsZQ%3D%3D?line=0'>1</a>\u001b[0m sns\u001b[39m.\u001b[39mcountplot(x\u001b[39m=\u001b[39mpredicao[\u001b[39m'\u001b[39;49m\u001b[39mFaixa_Emprestimo\u001b[39;49m\u001b[39m'\u001b[39;49m])\n",
      "File \u001b[1;32mc:\\Users\\PauloVinicius\\Documents\\GitHub\\AluraChallengeDataScience2\\ambienteAluraChallengeDados\\lib\\site-packages\\pandas\\core\\frame.py:3505\u001b[0m, in \u001b[0;36mDataFrame.__getitem__\u001b[1;34m(self, key)\u001b[0m\n\u001b[0;32m   3503\u001b[0m \u001b[39mif\u001b[39;00m \u001b[39mself\u001b[39m\u001b[39m.\u001b[39mcolumns\u001b[39m.\u001b[39mnlevels \u001b[39m>\u001b[39m \u001b[39m1\u001b[39m:\n\u001b[0;32m   3504\u001b[0m     \u001b[39mreturn\u001b[39;00m \u001b[39mself\u001b[39m\u001b[39m.\u001b[39m_getitem_multilevel(key)\n\u001b[1;32m-> 3505\u001b[0m indexer \u001b[39m=\u001b[39m \u001b[39mself\u001b[39;49m\u001b[39m.\u001b[39;49mcolumns\u001b[39m.\u001b[39;49mget_loc(key)\n\u001b[0;32m   3506\u001b[0m \u001b[39mif\u001b[39;00m is_integer(indexer):\n\u001b[0;32m   3507\u001b[0m     indexer \u001b[39m=\u001b[39m [indexer]\n",
      "File \u001b[1;32mc:\\Users\\PauloVinicius\\Documents\\GitHub\\AluraChallengeDataScience2\\ambienteAluraChallengeDados\\lib\\site-packages\\pandas\\core\\indexes\\base.py:3623\u001b[0m, in \u001b[0;36mIndex.get_loc\u001b[1;34m(self, key, method, tolerance)\u001b[0m\n\u001b[0;32m   3621\u001b[0m     \u001b[39mreturn\u001b[39;00m \u001b[39mself\u001b[39m\u001b[39m.\u001b[39m_engine\u001b[39m.\u001b[39mget_loc(casted_key)\n\u001b[0;32m   3622\u001b[0m \u001b[39mexcept\u001b[39;00m \u001b[39mKeyError\u001b[39;00m \u001b[39mas\u001b[39;00m err:\n\u001b[1;32m-> 3623\u001b[0m     \u001b[39mraise\u001b[39;00m \u001b[39mKeyError\u001b[39;00m(key) \u001b[39mfrom\u001b[39;00m \u001b[39merr\u001b[39;00m\n\u001b[0;32m   3624\u001b[0m \u001b[39mexcept\u001b[39;00m \u001b[39mTypeError\u001b[39;00m:\n\u001b[0;32m   3625\u001b[0m     \u001b[39m# If we have a listlike key, _check_indexing_error will raise\u001b[39;00m\n\u001b[0;32m   3626\u001b[0m     \u001b[39m#  InvalidIndexError. Otherwise we fall through and re-raise\u001b[39;00m\n\u001b[0;32m   3627\u001b[0m     \u001b[39m#  the TypeError.\u001b[39;00m\n\u001b[0;32m   3628\u001b[0m     \u001b[39mself\u001b[39m\u001b[39m.\u001b[39m_check_indexing_error(key)\n",
      "\u001b[1;31mKeyError\u001b[0m: 'Faixa_Emprestimo'"
     ]
    }
   ],
   "source": [
    "# sns.countplot(x=predicao['Faixa_Emprestimo'])"
   ]
  },
  {
   "cell_type": "markdown",
   "metadata": {},
   "source": [
    "# Primeiro Credito"
   ]
  },
  {
   "cell_type": "code",
   "execution_count": 43,
   "metadata": {},
   "outputs": [
    {
     "data": {
      "text/plain": [
       "<AxesSubplot:xlabel='faixa_idade', ylabel='hst_primeiro_credito'>"
      ]
     },
     "execution_count": 43,
     "metadata": {},
     "output_type": "execute_result"
    },
    {
     "data": {
      "image/png": "[encoded data removed]",
      "text/plain": [
       "<Figure size 640x480 with 1 Axes>"
      ]
     },
     "metadata": {},
     "output_type": "display_data"
    }
   ],
   "source": [
    "\n",
    "sns.boxplot(x=dados['faixa_idade'],\n",
    "            y=dados['hst_primeiro_credito'])\n",
    "\n",
    "# print(dados['pessoa_idade'].where(dados['faixa_idade'] == 2).unique())\n"
   ]
  },
  {
   "cell_type": "code",
   "execution_count": 44,
   "metadata": {},
   "outputs": [],
   "source": [
    "dados.drop(dados[(dados[\"faixa_idade\"] == 2) &(dados['hst_primeiro_credito'] > 20)].index, inplace=True)"
   ]
  },
  {
   "cell_type": "code",
   "execution_count": 45,
   "metadata": {},
   "outputs": [],
   "source": [
    "dados.drop(dados[(dados[\"faixa_idade\"] == 3) &(dados['hst_primeiro_credito'] > 25)].index, inplace=True)"
   ]
  },
  {
   "cell_type": "code",
   "execution_count": 42,
   "metadata": {},
   "outputs": [
    {
     "data": {
      "text/plain": [
       "<AxesSubplot:xlabel='faixa_idade', ylabel='hst_primeiro_credito'>"
      ]
     },
     "execution_count": 42,
     "metadata": {},
     "output_type": "execute_result"
    },
    {
     "data": {
      "image/png": "[encoded data removed]",
      "text/plain": [
       "<Figure size 640x480 with 1 Axes>"
      ]
     },
     "metadata": {},
     "output_type": "display_data"
    }
   ],
   "source": [
    "# sns.boxplot(x=predicao['faixa_idade'],\n",
    "#             y=predicao['hst_primeiro_credito'])\n"
   ]
  },
  {
   "cell_type": "code",
   "execution_count": 25,
   "metadata": {},
   "outputs": [],
   "source": [
    "predicao.drop(predicao[(predicao[\"faixa_idade\"] == 2) &(predicao['hst_primeiro_credito'] > 20)].index, inplace=True)"
   ]
  },
  {
   "cell_type": "code",
   "execution_count": 26,
   "metadata": {},
   "outputs": [],
   "source": [
    "predicao.drop(predicao[(predicao[\"faixa_idade\"] == 3) &(predicao['hst_primeiro_credito'] > 25)].index, inplace=True)"
   ]
  },
  {
   "cell_type": "markdown",
   "metadata": {},
   "source": [
    "# Finalizando\n",
    " - Exportando os datasets para a pasta Data, onde será lido pelo programa de treino e predição.\n",
    " "
   ]
  },
  {
   "cell_type": "code",
   "execution_count": 46,
   "metadata": {},
   "outputs": [],
   "source": [
    "dados.describe()\n",
    "\n",
    "dados.to_csv('Data/Dados.csv', index=False)\n",
    "\n",
    "df_dados_semnulos.to_csv('Data/Dados_Sem_Nulos.csv', index=False)\n",
    "\n",
    "# predicao necessita de tratamento das variaveis numericas.\n",
    "predicao.to_csv('Data/Predicao.csv', index=False)"
   ]
  }
 ],
 "metadata": {
  "kernelspec": {
   "display_name": "Python 3.10.6 ('ambienteAluraChallengeDados': venv)",
   "language": "python",
   "name": "python3"
  },
  "language_info": {
   "codemirror_mode": {
    "name": "ipython",
    "version": 3
   },
   "file_extension": ".py",
   "mimetype": "text/x-python",
   "name": "python",
   "nbconvert_exporter": "python",
   "pygments_lexer": "ipython3",
   "version": "3.10.7"
  },
  "orig_nbformat": 4,
  "vscode": {
   "interpreter": {
    "hash": "741ac3bae4910aa6c796e807e646de1eb644790679a71f326a21c533958e2ea7"
   }
  }
 },
 "nbformat": 4,
 "nbformat_minor": 2
}
