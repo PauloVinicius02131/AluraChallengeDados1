{
 "cells": [
  {
   "cell_type": "code",
   "execution_count": 1,
   "metadata": {},
   "outputs": [],
   "source": [
    "import pandas as pd\n",
    "import seaborn as sns\n",
    "import sqlalchemy as sql\n",
    "import seaborn as sns\n",
    "import matplotlib.pyplot as plt\n",
    "\n",
    "from sqlalchemy import create_engine\n",
    "\n",
    "import matplotlib.backends.backend_pdf\n",
    "\n",
    "from sklearn.compose import make_column_transformer\n",
    "from sklearn.preprocessing import OneHotEncoder\n",
    "\n",
    "pd.set_option('display.float_format', lambda x: '%.3f' % x)\n"
   ]
  },
  {
   "cell_type": "code",
   "execution_count": 2,
   "metadata": {},
   "outputs": [],
   "source": [
    "string_connection = 'mysql+mysqlconnector://{user}:{password}@{server}/{database}'.format(\n",
    "                    user='root',\n",
    "                    password='125478',\n",
    "                    server='127.0.0.1',\n",
    "                    database='analise_risco')\n",
    "\n",
    "cnx = sql.create_engine(string_connection)\n"
   ]
  },
  {
   "cell_type": "code",
   "execution_count": 3,
   "metadata": {},
   "outputs": [
    {
     "data": {
      "text/html": [
       "<div>\n",
       "<style scoped>\n",
       "    .dataframe tbody tr th:only-of-type {\n",
       "        vertical-align: middle;\n",
       "    }\n",
       "\n",
       "    .dataframe tbody tr th {\n",
       "        vertical-align: top;\n",
       "    }\n",
       "\n",
       "    .dataframe thead th {\n",
       "        text-align: right;\n",
       "    }\n",
       "</style>\n",
       "<table border=\"1\" class=\"dataframe\">\n",
       "  <thead>\n",
       "    <tr style=\"text-align: right;\">\n",
       "      <th></th>\n",
       "      <th>pessoa_id</th>\n",
       "      <th>pessoa_idade</th>\n",
       "      <th>salario_ano</th>\n",
       "      <th>propriedade_sit</th>\n",
       "      <th>ano_trabalhado</th>\n",
       "      <th>motivo_emprestimo</th>\n",
       "      <th>pontuacao_emprestimos</th>\n",
       "      <th>vl_total</th>\n",
       "      <th>tx_juros</th>\n",
       "      <th>inadimplencia</th>\n",
       "      <th>tx_renda_divida</th>\n",
       "      <th>hst_inadimplencia</th>\n",
       "      <th>hst_primeiro_credito</th>\n",
       "    </tr>\n",
       "  </thead>\n",
       "  <tbody>\n",
       "    <tr>\n",
       "      <th>0</th>\n",
       "      <td>283zsKkk-MN9S</td>\n",
       "      <td>23.000</td>\n",
       "      <td>108000.000</td>\n",
       "      <td>Hipotecada</td>\n",
       "      <td>5.000</td>\n",
       "      <td>Pagamento de débitos</td>\n",
       "      <td>D</td>\n",
       "      <td>10000.000</td>\n",
       "      <td>NaN</td>\n",
       "      <td>1.000</td>\n",
       "      <td>0.090</td>\n",
       "      <td>1.000</td>\n",
       "      <td>2</td>\n",
       "    </tr>\n",
       "    <tr>\n",
       "      <th>1</th>\n",
       "      <td>4tD36gcw-IrsA</td>\n",
       "      <td>31.000</td>\n",
       "      <td>35000.000</td>\n",
       "      <td>Hipotecada</td>\n",
       "      <td>2.000</td>\n",
       "      <td>Pagamento de débitos</td>\n",
       "      <td>B</td>\n",
       "      <td>10225.000</td>\n",
       "      <td>9.990</td>\n",
       "      <td>0.000</td>\n",
       "      <td>0.290</td>\n",
       "      <td>0.000</td>\n",
       "      <td>6</td>\n",
       "    </tr>\n",
       "    <tr>\n",
       "      <th>2</th>\n",
       "      <td>08iwXXZl-5U5x</td>\n",
       "      <td>22.000</td>\n",
       "      <td>14400.000</td>\n",
       "      <td>Própria</td>\n",
       "      <td>0.000</td>\n",
       "      <td>Pessoal</td>\n",
       "      <td>B</td>\n",
       "      <td>2100.000</td>\n",
       "      <td>11.140</td>\n",
       "      <td>0.000</td>\n",
       "      <td>0.150</td>\n",
       "      <td>0.000</td>\n",
       "      <td>4</td>\n",
       "    </tr>\n",
       "    <tr>\n",
       "      <th>3</th>\n",
       "      <td>0PtiPv5h-nd0L</td>\n",
       "      <td>21.000</td>\n",
       "      <td>47580.000</td>\n",
       "      <td>Hipotecada</td>\n",
       "      <td>5.000</td>\n",
       "      <td>Educativo</td>\n",
       "      <td>A</td>\n",
       "      <td>14000.000</td>\n",
       "      <td>6.030</td>\n",
       "      <td>0.000</td>\n",
       "      <td>0.290</td>\n",
       "      <td>0.000</td>\n",
       "      <td>2</td>\n",
       "    </tr>\n",
       "    <tr>\n",
       "      <th>4</th>\n",
       "      <td>3QKc0Idh-OAkE</td>\n",
       "      <td>33.000</td>\n",
       "      <td>115000.000</td>\n",
       "      <td>Hipotecada</td>\n",
       "      <td>10.000</td>\n",
       "      <td>Médico</td>\n",
       "      <td>B</td>\n",
       "      <td>25000.000</td>\n",
       "      <td>11.860</td>\n",
       "      <td>0.000</td>\n",
       "      <td>0.220</td>\n",
       "      <td>0.000</td>\n",
       "      <td>8</td>\n",
       "    </tr>\n",
       "  </tbody>\n",
       "</table>\n",
       "</div>"
      ],
      "text/plain": [
       "       pessoa_id  pessoa_idade  salario_ano propriedade_sit  ano_trabalhado  \\\n",
       "0  283zsKkk-MN9S        23.000   108000.000      Hipotecada           5.000   \n",
       "1  4tD36gcw-IrsA        31.000    35000.000      Hipotecada           2.000   \n",
       "2  08iwXXZl-5U5x        22.000    14400.000         Própria           0.000   \n",
       "3  0PtiPv5h-nd0L        21.000    47580.000      Hipotecada           5.000   \n",
       "4  3QKc0Idh-OAkE        33.000   115000.000      Hipotecada          10.000   \n",
       "\n",
       "      motivo_emprestimo pontuacao_emprestimos  vl_total  tx_juros  \\\n",
       "0  Pagamento de débitos                     D 10000.000       NaN   \n",
       "1  Pagamento de débitos                     B 10225.000     9.990   \n",
       "2               Pessoal                     B  2100.000    11.140   \n",
       "3             Educativo                     A 14000.000     6.030   \n",
       "4                Médico                     B 25000.000    11.860   \n",
       "\n",
       "   inadimplencia  tx_renda_divida  hst_inadimplencia  hst_primeiro_credito  \n",
       "0          1.000            0.090              1.000                     2  \n",
       "1          0.000            0.290              0.000                     6  \n",
       "2          0.000            0.150              0.000                     4  \n",
       "3          0.000            0.290              0.000                     2  \n",
       "4          0.000            0.220              0.000                     8  "
      ]
     },
     "execution_count": 3,
     "metadata": {},
     "output_type": "execute_result"
    }
   ],
   "source": [
    "dados_raw = pd.read_sql('select * from analise_risco.dados_modelo_ml', cnx)\n",
    "\n",
    "dados_raw.head()"
   ]
  },
  {
   "cell_type": "code",
   "execution_count": 4,
   "metadata": {},
   "outputs": [
    {
     "data": {
      "text/html": [
       "<div>\n",
       "<style scoped>\n",
       "    .dataframe tbody tr th:only-of-type {\n",
       "        vertical-align: middle;\n",
       "    }\n",
       "\n",
       "    .dataframe tbody tr th {\n",
       "        vertical-align: top;\n",
       "    }\n",
       "\n",
       "    .dataframe thead th {\n",
       "        text-align: right;\n",
       "    }\n",
       "</style>\n",
       "<table border=\"1\" class=\"dataframe\">\n",
       "  <thead>\n",
       "    <tr style=\"text-align: right;\">\n",
       "      <th></th>\n",
       "      <th>pessoa_idade</th>\n",
       "      <th>salario_ano</th>\n",
       "      <th>ano_trabalhado</th>\n",
       "      <th>vl_total</th>\n",
       "      <th>tx_juros</th>\n",
       "      <th>inadimplencia</th>\n",
       "      <th>tx_renda_divida</th>\n",
       "      <th>hst_inadimplencia</th>\n",
       "      <th>hst_primeiro_credito</th>\n",
       "    </tr>\n",
       "  </thead>\n",
       "  <tbody>\n",
       "    <tr>\n",
       "      <th>pessoa_idade</th>\n",
       "      <td>1.000</td>\n",
       "      <td>0.174</td>\n",
       "      <td>0.164</td>\n",
       "      <td>0.048</td>\n",
       "      <td>0.013</td>\n",
       "      <td>-0.021</td>\n",
       "      <td>-0.041</td>\n",
       "      <td>0.005</td>\n",
       "      <td>0.819</td>\n",
       "    </tr>\n",
       "    <tr>\n",
       "      <th>salario_ano</th>\n",
       "      <td>0.174</td>\n",
       "      <td>1.000</td>\n",
       "      <td>0.136</td>\n",
       "      <td>0.258</td>\n",
       "      <td>0.001</td>\n",
       "      <td>-0.139</td>\n",
       "      <td>-0.247</td>\n",
       "      <td>-0.004</td>\n",
       "      <td>0.114</td>\n",
       "    </tr>\n",
       "    <tr>\n",
       "      <th>ano_trabalhado</th>\n",
       "      <td>0.164</td>\n",
       "      <td>0.136</td>\n",
       "      <td>1.000</td>\n",
       "      <td>0.107</td>\n",
       "      <td>-0.055</td>\n",
       "      <td>-0.081</td>\n",
       "      <td>-0.054</td>\n",
       "      <td>-0.027</td>\n",
       "      <td>0.138</td>\n",
       "    </tr>\n",
       "    <tr>\n",
       "      <th>vl_total</th>\n",
       "      <td>0.048</td>\n",
       "      <td>0.258</td>\n",
       "      <td>0.107</td>\n",
       "      <td>1.000</td>\n",
       "      <td>0.149</td>\n",
       "      <td>0.105</td>\n",
       "      <td>0.574</td>\n",
       "      <td>0.040</td>\n",
       "      <td>0.043</td>\n",
       "    </tr>\n",
       "    <tr>\n",
       "      <th>tx_juros</th>\n",
       "      <td>0.013</td>\n",
       "      <td>0.001</td>\n",
       "      <td>-0.055</td>\n",
       "      <td>0.149</td>\n",
       "      <td>1.000</td>\n",
       "      <td>0.336</td>\n",
       "      <td>0.121</td>\n",
       "      <td>0.501</td>\n",
       "      <td>0.017</td>\n",
       "    </tr>\n",
       "    <tr>\n",
       "      <th>inadimplencia</th>\n",
       "      <td>-0.021</td>\n",
       "      <td>-0.139</td>\n",
       "      <td>-0.081</td>\n",
       "      <td>0.105</td>\n",
       "      <td>0.336</td>\n",
       "      <td>1.000</td>\n",
       "      <td>0.378</td>\n",
       "      <td>0.177</td>\n",
       "      <td>-0.015</td>\n",
       "    </tr>\n",
       "    <tr>\n",
       "      <th>tx_renda_divida</th>\n",
       "      <td>-0.041</td>\n",
       "      <td>-0.247</td>\n",
       "      <td>-0.054</td>\n",
       "      <td>0.574</td>\n",
       "      <td>0.121</td>\n",
       "      <td>0.378</td>\n",
       "      <td>1.000</td>\n",
       "      <td>0.036</td>\n",
       "      <td>-0.032</td>\n",
       "    </tr>\n",
       "    <tr>\n",
       "      <th>hst_inadimplencia</th>\n",
       "      <td>0.005</td>\n",
       "      <td>-0.004</td>\n",
       "      <td>-0.027</td>\n",
       "      <td>0.040</td>\n",
       "      <td>0.501</td>\n",
       "      <td>0.177</td>\n",
       "      <td>0.036</td>\n",
       "      <td>1.000</td>\n",
       "      <td>0.004</td>\n",
       "    </tr>\n",
       "    <tr>\n",
       "      <th>hst_primeiro_credito</th>\n",
       "      <td>0.819</td>\n",
       "      <td>0.114</td>\n",
       "      <td>0.138</td>\n",
       "      <td>0.043</td>\n",
       "      <td>0.017</td>\n",
       "      <td>-0.015</td>\n",
       "      <td>-0.032</td>\n",
       "      <td>0.004</td>\n",
       "      <td>1.000</td>\n",
       "    </tr>\n",
       "  </tbody>\n",
       "</table>\n",
       "</div>"
      ],
      "text/plain": [
       "                      pessoa_idade  salario_ano  ano_trabalhado  vl_total  \\\n",
       "pessoa_idade                 1.000        0.174           0.164     0.048   \n",
       "salario_ano                  0.174        1.000           0.136     0.258   \n",
       "ano_trabalhado               0.164        0.136           1.000     0.107   \n",
       "vl_total                     0.048        0.258           0.107     1.000   \n",
       "tx_juros                     0.013        0.001          -0.055     0.149   \n",
       "inadimplencia               -0.021       -0.139          -0.081     0.105   \n",
       "tx_renda_divida             -0.041       -0.247          -0.054     0.574   \n",
       "hst_inadimplencia            0.005       -0.004          -0.027     0.040   \n",
       "hst_primeiro_credito         0.819        0.114           0.138     0.043   \n",
       "\n",
       "                      tx_juros  inadimplencia  tx_renda_divida  \\\n",
       "pessoa_idade             0.013         -0.021           -0.041   \n",
       "salario_ano              0.001         -0.139           -0.247   \n",
       "ano_trabalhado          -0.055         -0.081           -0.054   \n",
       "vl_total                 0.149          0.105            0.574   \n",
       "tx_juros                 1.000          0.336            0.121   \n",
       "inadimplencia            0.336          1.000            0.378   \n",
       "tx_renda_divida          0.121          0.378            1.000   \n",
       "hst_inadimplencia        0.501          0.177            0.036   \n",
       "hst_primeiro_credito     0.017         -0.015           -0.032   \n",
       "\n",
       "                      hst_inadimplencia  hst_primeiro_credito  \n",
       "pessoa_idade                      0.005                 0.819  \n",
       "salario_ano                      -0.004                 0.114  \n",
       "ano_trabalhado                   -0.027                 0.138  \n",
       "vl_total                          0.040                 0.043  \n",
       "tx_juros                          0.501                 0.017  \n",
       "inadimplencia                     0.177                -0.015  \n",
       "tx_renda_divida                   0.036                -0.032  \n",
       "hst_inadimplencia                 1.000                 0.004  \n",
       "hst_primeiro_credito              0.004                 1.000  "
      ]
     },
     "execution_count": 4,
     "metadata": {},
     "output_type": "execute_result"
    }
   ],
   "source": [
    "dados_raw.corr()"
   ]
  },
  {
   "cell_type": "markdown",
   "metadata": {},
   "source": [
    "Existe uma alta correlação entre tx_renda_divida e vl_total, ja que este numérico é construído através de calculo entre\n",
    "    vl_total e salario_ano.\n",
    "\n",
    "Optei por excluir a coluna do modelo com intuito de simplificar o conjunto."
   ]
  },
  {
   "cell_type": "code",
   "execution_count": 5,
   "metadata": {},
   "outputs": [
    {
     "name": "stdout",
     "output_type": "stream",
     "text": [
      "<class 'pandas.core.frame.DataFrame'>\n",
      "RangeIndex: 34485 entries, 0 to 34484\n",
      "Data columns (total 12 columns):\n",
      " #   Column                 Non-Null Count  Dtype  \n",
      "---  ------                 --------------  -----  \n",
      " 0   pessoa_id              34485 non-null  object \n",
      " 1   pessoa_idade           34165 non-null  float64\n",
      " 2   salario_ano            34150 non-null  float64\n",
      " 3   propriedade_sit        34485 non-null  object \n",
      " 4   ano_trabalhado         33231 non-null  float64\n",
      " 5   motivo_emprestimo      34485 non-null  object \n",
      " 6   pontuacao_emprestimos  34485 non-null  object \n",
      " 7   vl_total               34154 non-null  float64\n",
      " 8   tx_juros               30859 non-null  float64\n",
      " 9   inadimplencia          34142 non-null  float64\n",
      " 10  hst_inadimplencia      34119 non-null  float64\n",
      " 11  hst_primeiro_credito   34485 non-null  int64  \n",
      "dtypes: float64(7), int64(1), object(4)\n",
      "memory usage: 3.2+ MB\n"
     ]
    }
   ],
   "source": [
    "dados = dados_raw.drop(columns=['tx_renda_divida'])\n",
    "\n",
    "dados.info()"
   ]
  },
  {
   "cell_type": "markdown",
   "metadata": {},
   "source": [
    "# Tratando as colunas com variaveis categóricas.\n",
    "\n",
    "   Vamos utilizar o OneHotEncoder para realizar este processo."
   ]
  },
  {
   "cell_type": "code",
   "execution_count": 7,
   "metadata": {},
   "outputs": [
    {
     "name": "stderr",
     "output_type": "stream",
     "text": [
      "c:\\Users\\PauloVinicius\\Documents\\GitHub\\AluraChallengeDataScience2\\ambienteAluraChallengeDados\\lib\\site-packages\\sklearn\\utils\\deprecation.py:87: FutureWarning: Function get_feature_names is deprecated; get_feature_names is deprecated in 1.0 and will be removed in 1.2. Please use get_feature_names_out instead.\n",
      "  warnings.warn(msg, category=FutureWarning)\n"
     ]
    },
    {
     "data": {
      "text/html": [
       "<div>\n",
       "<style scoped>\n",
       "    .dataframe tbody tr th:only-of-type {\n",
       "        vertical-align: middle;\n",
       "    }\n",
       "\n",
       "    .dataframe tbody tr th {\n",
       "        vertical-align: top;\n",
       "    }\n",
       "\n",
       "    .dataframe thead th {\n",
       "        text-align: right;\n",
       "    }\n",
       "</style>\n",
       "<table border=\"1\" class=\"dataframe\">\n",
       "  <thead>\n",
       "    <tr style=\"text-align: right;\">\n",
       "      <th></th>\n",
       "      <th>onehotencoder__x0_-</th>\n",
       "      <th>onehotencoder__x0_Alugada</th>\n",
       "      <th>onehotencoder__x0_Hipotecada</th>\n",
       "      <th>onehotencoder__x0_Outros</th>\n",
       "      <th>onehotencoder__x0_Própria</th>\n",
       "      <th>onehotencoder__x1_-</th>\n",
       "      <th>onehotencoder__x1_Educativo</th>\n",
       "      <th>onehotencoder__x1_Empreendimento</th>\n",
       "      <th>onehotencoder__x1_Melhora do lar</th>\n",
       "      <th>onehotencoder__x1_Médico</th>\n",
       "      <th>...</th>\n",
       "      <th>onehotencoder__x2_G</th>\n",
       "      <th>pessoa_id</th>\n",
       "      <th>pessoa_idade</th>\n",
       "      <th>salario_ano</th>\n",
       "      <th>ano_trabalhado</th>\n",
       "      <th>vl_total</th>\n",
       "      <th>tx_juros</th>\n",
       "      <th>inadimplencia</th>\n",
       "      <th>hst_inadimplencia</th>\n",
       "      <th>hst_primeiro_credito</th>\n",
       "    </tr>\n",
       "  </thead>\n",
       "  <tbody>\n",
       "    <tr>\n",
       "      <th>0</th>\n",
       "      <td>0.000</td>\n",
       "      <td>0.000</td>\n",
       "      <td>1.000</td>\n",
       "      <td>0.000</td>\n",
       "      <td>0.000</td>\n",
       "      <td>0.000</td>\n",
       "      <td>0.000</td>\n",
       "      <td>0.000</td>\n",
       "      <td>0.000</td>\n",
       "      <td>0.000</td>\n",
       "      <td>...</td>\n",
       "      <td>0.000</td>\n",
       "      <td>283zsKkk-MN9S</td>\n",
       "      <td>23.000</td>\n",
       "      <td>108000.000</td>\n",
       "      <td>5.000</td>\n",
       "      <td>10000.000</td>\n",
       "      <td>NaN</td>\n",
       "      <td>1.000</td>\n",
       "      <td>1.000</td>\n",
       "      <td>2</td>\n",
       "    </tr>\n",
       "    <tr>\n",
       "      <th>1</th>\n",
       "      <td>0.000</td>\n",
       "      <td>0.000</td>\n",
       "      <td>1.000</td>\n",
       "      <td>0.000</td>\n",
       "      <td>0.000</td>\n",
       "      <td>0.000</td>\n",
       "      <td>0.000</td>\n",
       "      <td>0.000</td>\n",
       "      <td>0.000</td>\n",
       "      <td>0.000</td>\n",
       "      <td>...</td>\n",
       "      <td>0.000</td>\n",
       "      <td>4tD36gcw-IrsA</td>\n",
       "      <td>31.000</td>\n",
       "      <td>35000.000</td>\n",
       "      <td>2.000</td>\n",
       "      <td>10225.000</td>\n",
       "      <td>9.990</td>\n",
       "      <td>0.000</td>\n",
       "      <td>0.000</td>\n",
       "      <td>6</td>\n",
       "    </tr>\n",
       "    <tr>\n",
       "      <th>2</th>\n",
       "      <td>0.000</td>\n",
       "      <td>0.000</td>\n",
       "      <td>0.000</td>\n",
       "      <td>0.000</td>\n",
       "      <td>1.000</td>\n",
       "      <td>0.000</td>\n",
       "      <td>0.000</td>\n",
       "      <td>0.000</td>\n",
       "      <td>0.000</td>\n",
       "      <td>0.000</td>\n",
       "      <td>...</td>\n",
       "      <td>0.000</td>\n",
       "      <td>08iwXXZl-5U5x</td>\n",
       "      <td>22.000</td>\n",
       "      <td>14400.000</td>\n",
       "      <td>0.000</td>\n",
       "      <td>2100.000</td>\n",
       "      <td>11.140</td>\n",
       "      <td>0.000</td>\n",
       "      <td>0.000</td>\n",
       "      <td>4</td>\n",
       "    </tr>\n",
       "    <tr>\n",
       "      <th>3</th>\n",
       "      <td>0.000</td>\n",
       "      <td>0.000</td>\n",
       "      <td>1.000</td>\n",
       "      <td>0.000</td>\n",
       "      <td>0.000</td>\n",
       "      <td>0.000</td>\n",
       "      <td>1.000</td>\n",
       "      <td>0.000</td>\n",
       "      <td>0.000</td>\n",
       "      <td>0.000</td>\n",
       "      <td>...</td>\n",
       "      <td>0.000</td>\n",
       "      <td>0PtiPv5h-nd0L</td>\n",
       "      <td>21.000</td>\n",
       "      <td>47580.000</td>\n",
       "      <td>5.000</td>\n",
       "      <td>14000.000</td>\n",
       "      <td>6.030</td>\n",
       "      <td>0.000</td>\n",
       "      <td>0.000</td>\n",
       "      <td>2</td>\n",
       "    </tr>\n",
       "    <tr>\n",
       "      <th>4</th>\n",
       "      <td>0.000</td>\n",
       "      <td>0.000</td>\n",
       "      <td>1.000</td>\n",
       "      <td>0.000</td>\n",
       "      <td>0.000</td>\n",
       "      <td>0.000</td>\n",
       "      <td>0.000</td>\n",
       "      <td>0.000</td>\n",
       "      <td>0.000</td>\n",
       "      <td>1.000</td>\n",
       "      <td>...</td>\n",
       "      <td>0.000</td>\n",
       "      <td>3QKc0Idh-OAkE</td>\n",
       "      <td>33.000</td>\n",
       "      <td>115000.000</td>\n",
       "      <td>10.000</td>\n",
       "      <td>25000.000</td>\n",
       "      <td>11.860</td>\n",
       "      <td>0.000</td>\n",
       "      <td>0.000</td>\n",
       "      <td>8</td>\n",
       "    </tr>\n",
       "  </tbody>\n",
       "</table>\n",
       "<p>5 rows × 29 columns</p>\n",
       "</div>"
      ],
      "text/plain": [
       "  onehotencoder__x0_- onehotencoder__x0_Alugada onehotencoder__x0_Hipotecada  \\\n",
       "0               0.000                     0.000                        1.000   \n",
       "1               0.000                     0.000                        1.000   \n",
       "2               0.000                     0.000                        0.000   \n",
       "3               0.000                     0.000                        1.000   \n",
       "4               0.000                     0.000                        1.000   \n",
       "\n",
       "  onehotencoder__x0_Outros onehotencoder__x0_Própria onehotencoder__x1_-  \\\n",
       "0                    0.000                     0.000               0.000   \n",
       "1                    0.000                     0.000               0.000   \n",
       "2                    0.000                     1.000               0.000   \n",
       "3                    0.000                     0.000               0.000   \n",
       "4                    0.000                     0.000               0.000   \n",
       "\n",
       "  onehotencoder__x1_Educativo onehotencoder__x1_Empreendimento  \\\n",
       "0                       0.000                            0.000   \n",
       "1                       0.000                            0.000   \n",
       "2                       0.000                            0.000   \n",
       "3                       1.000                            0.000   \n",
       "4                       0.000                            0.000   \n",
       "\n",
       "  onehotencoder__x1_Melhora do lar onehotencoder__x1_Médico  ...  \\\n",
       "0                            0.000                    0.000  ...   \n",
       "1                            0.000                    0.000  ...   \n",
       "2                            0.000                    0.000  ...   \n",
       "3                            0.000                    0.000  ...   \n",
       "4                            0.000                    1.000  ...   \n",
       "\n",
       "  onehotencoder__x2_G      pessoa_id pessoa_idade salario_ano ano_trabalhado  \\\n",
       "0               0.000  283zsKkk-MN9S       23.000  108000.000          5.000   \n",
       "1               0.000  4tD36gcw-IrsA       31.000   35000.000          2.000   \n",
       "2               0.000  08iwXXZl-5U5x       22.000   14400.000          0.000   \n",
       "3               0.000  0PtiPv5h-nd0L       21.000   47580.000          5.000   \n",
       "4               0.000  3QKc0Idh-OAkE       33.000  115000.000         10.000   \n",
       "\n",
       "   vl_total tx_juros inadimplencia hst_inadimplencia hst_primeiro_credito  \n",
       "0 10000.000      NaN         1.000             1.000                    2  \n",
       "1 10225.000    9.990         0.000             0.000                    6  \n",
       "2  2100.000   11.140         0.000             0.000                    4  \n",
       "3 14000.000    6.030         0.000             0.000                    2  \n",
       "4 25000.000   11.860         0.000             0.000                    8  \n",
       "\n",
       "[5 rows x 29 columns]"
      ]
     },
     "execution_count": 7,
     "metadata": {},
     "output_type": "execute_result"
    }
   ],
   "source": [
    "\n",
    "colunas_categoricas = ['propriedade_sit',\n",
    "                       'motivo_emprestimo', 'pontuacao_emprestimos']\n",
    "\n",
    "one_hot_enc = make_column_transformer(\n",
    "    (OneHotEncoder(handle_unknown='ignore'),\n",
    "     colunas_categoricas),\n",
    "    remainder='passthrough')\n",
    "\n",
    "dados = one_hot_enc.fit_transform(dados)\n",
    "\n",
    "dados = pd.DataFrame(dados, columns=one_hot_enc.get_feature_names())\n",
    "dados.head()\n"
   ]
  },
  {
   "cell_type": "markdown",
   "metadata": {},
   "source": [
    "# Trabalhando com os Nulos.\n",
    "\n",
    "  - Criar um Dataset sem nulos.\n",
    "  - Criar um Dataset com os nulos tratados.\n"
   ]
  },
  {
   "cell_type": "markdown",
   "metadata": {},
   "source": [
    "Dataset sem nulos:"
   ]
  },
  {
   "cell_type": "code",
   "execution_count": 8,
   "metadata": {},
   "outputs": [],
   "source": [
    "df_dados_semnulos = dados.dropna()\n"
   ]
  },
  {
   "cell_type": "markdown",
   "metadata": {},
   "source": [
    "Nulos Tratados"
   ]
  },
  {
   "cell_type": "markdown",
   "metadata": {},
   "source": [
    "A idea é obter a mediana da variavel alvo atraves de agrupamento de outras variveis a qual não se possui valores nulos nas colunas."
   ]
  },
  {
   "cell_type": "code",
   "execution_count": 9,
   "metadata": {},
   "outputs": [],
   "source": [
    "\n",
    "lista_groupby = ['pessoa_idade', 'salario_ano',\n",
    "                 'ano_trabalhado', 'tx_juros', 'hst_inadimplencia']\n",
    "\n",
    "# Nas colunas que constam nesta lista, analisei que poderíamos conseguir estimar o dado conforme a média dos dados agrupados por algumas categorias.\n",
    "for i in lista_groupby:\n",
    "    dados[i].fillna(dados_raw.groupby(['propriedade_sit', 'motivo_emprestimo'])[i].transform('median'), inplace=True)\n",
    "\n",
    "# vl_total 331 nulos - Optei por remover esta variavel que é importante para o modelo.\n",
    "dados.dropna(axis=0,subset=['vl_total'], inplace=True)\n",
    "\n",
    "# Inadimplência 343 nulos - Vou separar os dados nulos desta coluna para um dataset de predição.\n",
    "predicao = dados.copy(deep=True)\n",
    "mask = pd.isnull(dados['inadimplencia'])\n",
    "predicao = predicao[mask]\n",
    "\n",
    "# Removendo os dados nulos da coluna inadimplência do dataset que vai para o modelo.\n",
    "dados.dropna(axis=0,subset=['inadimplencia'], inplace=True)"
   ]
  },
  {
   "cell_type": "code",
   "execution_count": 10,
   "metadata": {},
   "outputs": [
    {
     "name": "stdout",
     "output_type": "stream",
     "text": [
      "<class 'pandas.core.frame.DataFrame'>\n",
      "RangeIndex: 307 entries, 0 to 306\n",
      "Data columns (total 29 columns):\n",
      " #   Column                                  Non-Null Count  Dtype  \n",
      "---  ------                                  --------------  -----  \n",
      " 0   onehotencoder__x0_-                     307 non-null    object \n",
      " 1   onehotencoder__x0_Alugada               307 non-null    object \n",
      " 2   onehotencoder__x0_Hipotecada            307 non-null    object \n",
      " 3   onehotencoder__x0_Outros                307 non-null    object \n",
      " 4   onehotencoder__x0_Própria               307 non-null    object \n",
      " 5   onehotencoder__x1_-                     307 non-null    object \n",
      " 6   onehotencoder__x1_Educativo             307 non-null    object \n",
      " 7   onehotencoder__x1_Empreendimento        307 non-null    object \n",
      " 8   onehotencoder__x1_Melhora do lar        307 non-null    object \n",
      " 9   onehotencoder__x1_Médico                307 non-null    object \n",
      " 10  onehotencoder__x1_Pagamento de débitos  307 non-null    object \n",
      " 11  onehotencoder__x1_Pessoal               307 non-null    object \n",
      " 12  onehotencoder__x2_                      307 non-null    object \n",
      " 13  onehotencoder__x2_A                     307 non-null    object \n",
      " 14  onehotencoder__x2_B                     307 non-null    object \n",
      " 15  onehotencoder__x2_C                     307 non-null    object \n",
      " 16  onehotencoder__x2_D                     307 non-null    object \n",
      " 17  onehotencoder__x2_E                     307 non-null    object \n",
      " 18  onehotencoder__x2_F                     307 non-null    object \n",
      " 19  onehotencoder__x2_G                     307 non-null    object \n",
      " 20  pessoa_id                               307 non-null    object \n",
      " 21  pessoa_idade                            307 non-null    float64\n",
      " 22  salario_ano                             307 non-null    float64\n",
      " 23  ano_trabalhado                          307 non-null    float64\n",
      " 24  vl_total                                307 non-null    object \n",
      " 25  tx_juros                                307 non-null    float64\n",
      " 26  inadimplencia                           0 non-null      object \n",
      " 27  hst_inadimplencia                       307 non-null    float64\n",
      " 28  hst_primeiro_credito                    307 non-null    object \n",
      "dtypes: float64(5), object(24)\n",
      "memory usage: 69.7+ KB\n"
     ]
    }
   ],
   "source": [
    "predicao.reset_index(drop=True, inplace=True)\n",
    "predicao.info()"
   ]
  },
  {
   "cell_type": "markdown",
   "metadata": {},
   "source": [
    "# Tratamento de Variaveis Numericas"
   ]
  },
  {
   "cell_type": "code",
   "execution_count": 11,
   "metadata": {},
   "outputs": [],
   "source": [
    "colunas_float = dados.select_dtypes(include=['float64']).columns\n",
    "\n",
    "for i in colunas_float:\n",
    "    dados[i] = dados[i].astype('int64')\n"
   ]
  },
  {
   "cell_type": "code",
   "execution_count": 21,
   "metadata": {},
   "outputs": [
    {
     "data": {
      "text/html": [
       "<div>\n",
       "<style scoped>\n",
       "    .dataframe tbody tr th:only-of-type {\n",
       "        vertical-align: middle;\n",
       "    }\n",
       "\n",
       "    .dataframe tbody tr th {\n",
       "        vertical-align: top;\n",
       "    }\n",
       "\n",
       "    .dataframe thead th {\n",
       "        text-align: right;\n",
       "    }\n",
       "</style>\n",
       "<table border=\"1\" class=\"dataframe\">\n",
       "  <thead>\n",
       "    <tr style=\"text-align: right;\">\n",
       "      <th></th>\n",
       "      <th>pessoa_idade</th>\n",
       "      <th>salario_ano</th>\n",
       "      <th>ano_trabalhado</th>\n",
       "      <th>tx_juros</th>\n",
       "    </tr>\n",
       "  </thead>\n",
       "  <tbody>\n",
       "    <tr>\n",
       "      <th>count</th>\n",
       "      <td>33842.000</td>\n",
       "      <td>33842.000</td>\n",
       "      <td>33842.000</td>\n",
       "      <td>33842.000</td>\n",
       "    </tr>\n",
       "    <tr>\n",
       "      <th>mean</th>\n",
       "      <td>27.701</td>\n",
       "      <td>65810.052</td>\n",
       "      <td>4.765</td>\n",
       "      <td>10.443</td>\n",
       "    </tr>\n",
       "    <tr>\n",
       "      <th>std</th>\n",
       "      <td>6.183</td>\n",
       "      <td>52148.092</td>\n",
       "      <td>4.076</td>\n",
       "      <td>3.103</td>\n",
       "    </tr>\n",
       "    <tr>\n",
       "      <th>min</th>\n",
       "      <td>20.000</td>\n",
       "      <td>4000.000</td>\n",
       "      <td>0.000</td>\n",
       "      <td>5.000</td>\n",
       "    </tr>\n",
       "    <tr>\n",
       "      <th>25%</th>\n",
       "      <td>23.000</td>\n",
       "      <td>39000.000</td>\n",
       "      <td>2.000</td>\n",
       "      <td>8.000</td>\n",
       "    </tr>\n",
       "    <tr>\n",
       "      <th>50%</th>\n",
       "      <td>26.000</td>\n",
       "      <td>55000.000</td>\n",
       "      <td>4.000</td>\n",
       "      <td>10.000</td>\n",
       "    </tr>\n",
       "    <tr>\n",
       "      <th>75%</th>\n",
       "      <td>30.000</td>\n",
       "      <td>79000.000</td>\n",
       "      <td>7.000</td>\n",
       "      <td>13.000</td>\n",
       "    </tr>\n",
       "    <tr>\n",
       "      <th>max</th>\n",
       "      <td>94.000</td>\n",
       "      <td>2039784.000</td>\n",
       "      <td>123.000</td>\n",
       "      <td>23.000</td>\n",
       "    </tr>\n",
       "  </tbody>\n",
       "</table>\n",
       "</div>"
      ],
      "text/plain": [
       "       pessoa_idade  salario_ano  ano_trabalhado  tx_juros\n",
       "count     33842.000    33842.000       33842.000 33842.000\n",
       "mean         27.701    65810.052           4.765    10.443\n",
       "std           6.183    52148.092           4.076     3.103\n",
       "min          20.000     4000.000           0.000     5.000\n",
       "25%          23.000    39000.000           2.000     8.000\n",
       "50%          26.000    55000.000           4.000    10.000\n",
       "75%          30.000    79000.000           7.000    13.000\n",
       "max          94.000  2039784.000         123.000    23.000"
      ]
     },
     "execution_count": 21,
     "metadata": {},
     "output_type": "execute_result"
    }
   ],
   "source": [
    "\n",
    "colunas_numericas = [\"pessoa_idade\",\n",
    "\"salario_ano\",\n",
    "\"ano_trabalhado\",\n",
    "\"vl_total\",\n",
    "\"tx_juros\",\n",
    "\"hst_primeiro_credito\"]\n",
    "\n",
    "dados[colunas_numericas].describe()\n"
   ]
  },
  {
   "cell_type": "markdown",
   "metadata": {},
   "source": [
    "# Variaveis Numéricas.\n",
    "\n",
    "  Alguns gráficos utilizados para analisar as variaveis numéricas.\n"
   ]
  },
  {
   "cell_type": "code",
   "execution_count": 17,
   "metadata": {},
   "outputs": [],
   "source": [
    "# for i in colunas_numericas:\n",
    "#     plt.figure()\n",
    "#     sns.boxplot(x=dados[i])\n",
    "    \n"
   ]
  },
  {
   "cell_type": "markdown",
   "metadata": {},
   "source": [
    "# Idade"
   ]
  },
  {
   "cell_type": "code",
   "execution_count": 13,
   "metadata": {},
   "outputs": [
    {
     "data": {
      "text/plain": [
       "<AxesSubplot:xlabel='pessoa_idade'>"
      ]
     },
     "execution_count": 13,
     "metadata": {},
     "output_type": "execute_result"
    },
    {
     "data": {
      "image/png": "[encoded data removed]",
      "text/plain": [
       "<Figure size 640x480 with 1 Axes>"
      ]
     },
     "metadata": {},
     "output_type": "display_data"
    }
   ],
   "source": [
    "sns.violinplot(x=dados['pessoa_idade'], data=dados, linewidth=2)"
   ]
  },
  {
   "cell_type": "code",
   "execution_count": 14,
   "metadata": {},
   "outputs": [
    {
     "data": {
      "text/plain": [
       "<AxesSubplot:xlabel='pessoa_idade', ylabel='count'>"
      ]
     },
     "execution_count": 14,
     "metadata": {},
     "output_type": "execute_result"
    },
    {
     "data": {
      "image/png": "[encoded data removed]",
      "text/plain": [
       "<Figure size 640x480 with 1 Axes>"
      ]
     },
     "metadata": {},
     "output_type": "display_data"
    }
   ],
   "source": [
    "out = dados['pessoa_idade'].where(dados['pessoa_idade'] > 60)\n",
    "sns.countplot(x=out, data=dados, linewidth=2, palette=\"Set2\", edgecolor=\".2\")"
   ]
  },
  {
   "cell_type": "code",
   "execution_count": 22,
   "metadata": {},
   "outputs": [],
   "source": [
    "#Apagar 2 pessoas acima de 100 anos\n",
    "dados.drop(dados[dados[\"pessoa_idade\"] > 86].index, inplace=True)\n",
    "\n",
    "# Percebe-se que a idade se concentra entre 20 e 40 anos\n",
    "# Teste sobre criar uma coluna de faixas etárias com intervalo de 5 anos.\n",
    "\n",
    "faixa_etaria = [15, 20,25, 30, 35, 40, 45, 50, 55, 60, 65, 70, 75, 80, 85]\n",
    "faixa_etaria_labels = [1,2,3,4,5,6,7,8,9,10,11,12,13,14]\n",
    "\n",
    "dados['faixa_idade'] = pd.cut(\n",
    "    x=dados['pessoa_idade'], bins=faixa_etaria, labels=faixa_etaria_labels)\n",
    "\n",
    "\n",
    "predicao['faixa_idade'] = pd.cut(\n",
    "    x=predicao['pessoa_idade'], bins=faixa_etaria, labels=faixa_etaria_labels)\n",
    "\n"
   ]
  },
  {
   "cell_type": "markdown",
   "metadata": {},
   "source": [
    "# Salario Ano"
   ]
  },
  {
   "cell_type": "code",
   "execution_count": 23,
   "metadata": {},
   "outputs": [],
   "source": [
    "dados['Faixa_Salarial'] = pd.qcut(dados['salario_ano'],  q=10, labels=False)\n",
    "\n",
    "predicao['Faixa_Salarial'] = pd.qcut(predicao['salario_ano'],  q=10, labels=False)\n"
   ]
  },
  {
   "cell_type": "markdown",
   "metadata": {},
   "source": [
    "# Ano Trabalhado"
   ]
  },
  {
   "cell_type": "code",
   "execution_count": 28,
   "metadata": {},
   "outputs": [
    {
     "data": {
      "text/plain": [
       "<AxesSubplot:xlabel='ano_trabalhado', ylabel='count'>"
      ]
     },
     "execution_count": 28,
     "metadata": {},
     "output_type": "execute_result"
    },
    {
     "data": {
      "image/png": "[encoded data removed]",
      "text/plain": [
       "<Figure size 640x480 with 1 Axes>"
      ]
     },
     "metadata": {},
     "output_type": "display_data"
    }
   ],
   "source": [
    "out = dados['ano_trabalhado'].where(dados['ano_trabalhado'] > 50)\n",
    "sns.countplot(x=out)\n"
   ]
  },
  {
   "cell_type": "code",
   "execution_count": 29,
   "metadata": {},
   "outputs": [],
   "source": [
    "dados.drop(\n",
    "    dados[dados[\"ano_trabalhado\"] > 100].index, inplace=True)\n"
   ]
  },
  {
   "cell_type": "code",
   "execution_count": 30,
   "metadata": {},
   "outputs": [
    {
     "data": {
      "text/plain": [
       "<AxesSubplot:xlabel='ano_trabalhado', ylabel='count'>"
      ]
     },
     "execution_count": 30,
     "metadata": {},
     "output_type": "execute_result"
    },
    {
     "data": {
      "image/png": "[encoded data removed]",
      "text/plain": [
       "<Figure size 640x480 with 1 Axes>"
      ]
     },
     "metadata": {},
     "output_type": "display_data"
    }
   ],
   "source": [
    "out = predicao['ano_trabalhado'].where(predicao['ano_trabalhado'] > 20)\n",
    "sns.countplot(x=out)\n"
   ]
  },
  {
   "cell_type": "markdown",
   "metadata": {},
   "source": [
    "# Valor Total"
   ]
  },
  {
   "cell_type": "code",
   "execution_count": 31,
   "metadata": {},
   "outputs": [
    {
     "data": {
      "text/plain": [
       "<AxesSubplot:xlabel='vl_total', ylabel='count'>"
      ]
     },
     "execution_count": 31,
     "metadata": {},
     "output_type": "execute_result"
    },
    {
     "data": {
      "image/png": "[encoded data removed]",
      "text/plain": [
       "<Figure size 640x480 with 1 Axes>"
      ]
     },
     "metadata": {},
     "output_type": "display_data"
    }
   ],
   "source": [
    "out = dados['vl_total'].where(dados['vl_total'] > 20000)\n",
    "sns.countplot(x=out)\n"
   ]
  },
  {
   "cell_type": "code",
   "execution_count": 32,
   "metadata": {},
   "outputs": [],
   "source": [
    "dados['Faixa_Emprestimo'] = pd.cut(x= dados['vl_total'], bins=35, labels=False)\n",
    "\n",
    "# predicao['Faixa_Emprestimo'] = pd.cut(x=predicao['vl_total'], bins=35, labels=False)\n"
   ]
  },
  {
   "cell_type": "code",
   "execution_count": 33,
   "metadata": {},
   "outputs": [
    {
     "data": {
      "text/plain": [
       "<AxesSubplot:xlabel='Faixa_Emprestimo', ylabel='count'>"
      ]
     },
     "execution_count": 33,
     "metadata": {},
     "output_type": "execute_result"
    },
    {
     "data": {
      "image/png": "[encoded data removed]",
      "text/plain": [
       "<Figure size 640x480 with 1 Axes>"
      ]
     },
     "metadata": {},
     "output_type": "display_data"
    }
   ],
   "source": [
    "sns.countplot(x=dados['Faixa_Emprestimo'])"
   ]
  },
  {
   "cell_type": "markdown",
   "metadata": {},
   "source": [
    "# Primeiro Credito"
   ]
  },
  {
   "cell_type": "code",
   "execution_count": 38,
   "metadata": {},
   "outputs": [
    {
     "data": {
      "text/plain": [
       "<AxesSubplot:xlabel='faixa_idade', ylabel='hst_primeiro_credito'>"
      ]
     },
     "execution_count": 38,
     "metadata": {},
     "output_type": "execute_result"
    },
    {
     "data": {
      "image/png": "[encoded data removed]",
      "text/plain": [
       "<Figure size 640x480 with 1 Axes>"
      ]
     },
     "metadata": {},
     "output_type": "display_data"
    }
   ],
   "source": [
    "\n",
    "sns.boxplot(x=dados['faixa_idade'],\n",
    "            y=dados['hst_primeiro_credito'])\n",
    "\n",
    "# print(dados['pessoa_idade'].where(dados['faixa_idade'] == 2).unique())\n"
   ]
  },
  {
   "cell_type": "code",
   "execution_count": 35,
   "metadata": {},
   "outputs": [],
   "source": [
    "dados.drop(dados[(dados[\"faixa_idade\"] == 2) &(dados['hst_primeiro_credito'] > 20)].index, inplace=True)"
   ]
  },
  {
   "cell_type": "code",
   "execution_count": 36,
   "metadata": {},
   "outputs": [],
   "source": [
    "dados.drop(dados[(dados[\"faixa_idade\"] == 3) &(dados['hst_primeiro_credito'] > 25)].index, inplace=True)"
   ]
  },
  {
   "cell_type": "markdown",
   "metadata": {},
   "source": [
    "# Finalizando\n",
    " - Exportando os datasets para a pasta Data, onde será lido pelo programa de treino e predição.\n",
    " "
   ]
  },
  {
   "cell_type": "code",
   "execution_count": 37,
   "metadata": {},
   "outputs": [],
   "source": [
    "dados.describe()\n",
    "\n",
    "dados.to_csv('Data/Dados.csv', index=False)\n",
    "\n",
    "df_dados_semnulos.to_csv('Data/Dados_Sem_Nulos.csv', index=False)\n",
    "\n",
    "# predicao necessita de tratamento das variaveis numericas.\n",
    "predicao.to_csv('Data/Predicao.csv', index=False)"
   ]
  }
 ],
 "metadata": {
  "kernelspec": {
   "display_name": "Python 3.10.6 ('ambienteAluraChallengeDados': venv)",
   "language": "python",
   "name": "python3"
  },
  "language_info": {
   "codemirror_mode": {
    "name": "ipython",
    "version": 3
   },
   "file_extension": ".py",
   "mimetype": "text/x-python",
   "name": "python",
   "nbconvert_exporter": "python",
   "pygments_lexer": "ipython3",
   "version": "3.10.7"
  },
  "orig_nbformat": 4,
  "vscode": {
   "interpreter": {
    "hash": "741ac3bae4910aa6c796e807e646de1eb644790679a71f326a21c533958e2ea7"
   }
  }
 },
 "nbformat": 4,
 "nbformat_minor": 2
}
